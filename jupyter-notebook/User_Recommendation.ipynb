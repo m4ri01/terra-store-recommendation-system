{
 "cells": [
  {
   "cell_type": "markdown",
   "id": "ebe40284",
   "metadata": {},
   "source": [
    "# User Product Recomendation\n",
    "\n",
    "pada notebook ini akan dibuat sebuah sistem rekomendasi untuk merekomendasi barang yang akan dibeli selanjutnya oleh user pada aplikasi marketplace Terra Store. Tujuan pembuatan sistem ini adalah meningkatkan market cap dari terra store agar semakin cepat menjadi UNICORN dan listing IDX di Indonesia!!!!"
   ]
  },
  {
   "cell_type": "markdown",
   "id": "b8345513",
   "metadata": {},
   "source": [
    "## Import Library\n",
    "pada tahap pertama ini akan diimport beberapa library general yang dibutuhkan dalam implementasi sistem"
   ]
  },
  {
   "cell_type": "code",
   "execution_count": 38,
   "id": "a94838ee",
   "metadata": {},
   "outputs": [],
   "source": [
    "import pandas as pd\n",
    "import matplotlib.pyplot as plt\n",
    "import numpy as np\n",
    "from typing import List"
   ]
  },
  {
   "cell_type": "markdown",
   "id": "90a2fbc0",
   "metadata": {},
   "source": [
    "## Load Dataset\n",
    "Selanjutnya akan diload beberapa dataset yang sudah disediakan oleh terra store"
   ]
  },
  {
   "cell_type": "code",
   "execution_count": 2,
   "id": "74bc9e18",
   "metadata": {},
   "outputs": [],
   "source": [
    "product = pd.read_csv(\"product_details.csv\",delimiter=\";\")\n",
    "purchase = pd.read_csv(\"purchase_history.csv\",delimiter=\";\") \n",
    "interactions = pd.read_csv(\"customer_interactions.csv\")"
   ]
  },
  {
   "cell_type": "markdown",
   "id": "65b40936",
   "metadata": {},
   "source": [
    "## Preprocessing, EDA, dan Feature Engineering\n",
    "tahap selajutnya, kita akan melihat beberapa dataframe yang sudah kita load dan akan melakukan preprocessing, EDA, dan feature engineering."
   ]
  },
  {
   "cell_type": "markdown",
   "id": "b067ee43",
   "metadata": {},
   "source": [
    "### Product DataFrame"
   ]
  },
  {
   "cell_type": "code",
   "execution_count": 3,
   "id": "457bd86e",
   "metadata": {},
   "outputs": [
    {
     "data": {
      "text/html": [
       "<div>\n",
       "<style scoped>\n",
       "    .dataframe tbody tr th:only-of-type {\n",
       "        vertical-align: middle;\n",
       "    }\n",
       "\n",
       "    .dataframe tbody tr th {\n",
       "        vertical-align: top;\n",
       "    }\n",
       "\n",
       "    .dataframe thead th {\n",
       "        text-align: right;\n",
       "    }\n",
       "</style>\n",
       "<table border=\"1\" class=\"dataframe\">\n",
       "  <thead>\n",
       "    <tr style=\"text-align: right;\">\n",
       "      <th></th>\n",
       "      <th>product_id</th>\n",
       "      <th>category</th>\n",
       "      <th>price</th>\n",
       "      <th>ratings</th>\n",
       "      <th>Unnamed: 4</th>\n",
       "      <th>Unnamed: 5</th>\n",
       "      <th>Unnamed: 6</th>\n",
       "    </tr>\n",
       "  </thead>\n",
       "  <tbody>\n",
       "    <tr>\n",
       "      <th>0</th>\n",
       "      <td>101</td>\n",
       "      <td>Electronics</td>\n",
       "      <td>500</td>\n",
       "      <td>4.5</td>\n",
       "      <td>NaN</td>\n",
       "      <td>NaN</td>\n",
       "      <td>NaN</td>\n",
       "    </tr>\n",
       "    <tr>\n",
       "      <th>1</th>\n",
       "      <td>102</td>\n",
       "      <td>Clothing</td>\n",
       "      <td>50</td>\n",
       "      <td>3.8</td>\n",
       "      <td>NaN</td>\n",
       "      <td>NaN</td>\n",
       "      <td>NaN</td>\n",
       "    </tr>\n",
       "    <tr>\n",
       "      <th>2</th>\n",
       "      <td>103</td>\n",
       "      <td>Home &amp; Kitchen</td>\n",
       "      <td>200</td>\n",
       "      <td>4.2</td>\n",
       "      <td>NaN</td>\n",
       "      <td>NaN</td>\n",
       "      <td>NaN</td>\n",
       "    </tr>\n",
       "    <tr>\n",
       "      <th>3</th>\n",
       "      <td>104</td>\n",
       "      <td>Beauty</td>\n",
       "      <td>30</td>\n",
       "      <td>4.0</td>\n",
       "      <td>NaN</td>\n",
       "      <td>NaN</td>\n",
       "      <td>NaN</td>\n",
       "    </tr>\n",
       "    <tr>\n",
       "      <th>4</th>\n",
       "      <td>105</td>\n",
       "      <td>Electronics</td>\n",
       "      <td>800</td>\n",
       "      <td>4.8</td>\n",
       "      <td>NaN</td>\n",
       "      <td>NaN</td>\n",
       "      <td>NaN</td>\n",
       "    </tr>\n",
       "  </tbody>\n",
       "</table>\n",
       "</div>"
      ],
      "text/plain": [
       "   product_id        category  price  ratings  Unnamed: 4  Unnamed: 5  \\\n",
       "0         101     Electronics    500      4.5         NaN         NaN   \n",
       "1         102        Clothing     50      3.8         NaN         NaN   \n",
       "2         103  Home & Kitchen    200      4.2         NaN         NaN   \n",
       "3         104          Beauty     30      4.0         NaN         NaN   \n",
       "4         105     Electronics    800      4.8         NaN         NaN   \n",
       "\n",
       "   Unnamed: 6  \n",
       "0         NaN  \n",
       "1         NaN  \n",
       "2         NaN  \n",
       "3         NaN  \n",
       "4         NaN  "
      ]
     },
     "execution_count": 3,
     "metadata": {},
     "output_type": "execute_result"
    }
   ],
   "source": [
    "product.head()"
   ]
  },
  {
   "cell_type": "code",
   "execution_count": 5,
   "id": "2f458127",
   "metadata": {},
   "outputs": [],
   "source": [
    "product.drop(columns=product.columns[-3:],inplace=True)"
   ]
  },
  {
   "cell_type": "code",
   "execution_count": 6,
   "id": "885cc396",
   "metadata": {},
   "outputs": [
    {
     "data": {
      "text/plain": [
       "product_id    0\n",
       "category      0\n",
       "price         0\n",
       "ratings       0\n",
       "dtype: int64"
      ]
     },
     "execution_count": 6,
     "metadata": {},
     "output_type": "execute_result"
    }
   ],
   "source": [
    "product.isna().sum()"
   ]
  },
  {
   "cell_type": "code",
   "execution_count": 7,
   "id": "879bb3a2",
   "metadata": {},
   "outputs": [
    {
     "data": {
      "text/html": [
       "<div>\n",
       "<style scoped>\n",
       "    .dataframe tbody tr th:only-of-type {\n",
       "        vertical-align: middle;\n",
       "    }\n",
       "\n",
       "    .dataframe tbody tr th {\n",
       "        vertical-align: top;\n",
       "    }\n",
       "\n",
       "    .dataframe thead th {\n",
       "        text-align: right;\n",
       "    }\n",
       "</style>\n",
       "<table border=\"1\" class=\"dataframe\">\n",
       "  <thead>\n",
       "    <tr style=\"text-align: right;\">\n",
       "      <th></th>\n",
       "      <th>product_id</th>\n",
       "      <th>price</th>\n",
       "      <th>ratings</th>\n",
       "    </tr>\n",
       "  </thead>\n",
       "  <tbody>\n",
       "    <tr>\n",
       "      <th>count</th>\n",
       "      <td>5.000000</td>\n",
       "      <td>5.000000</td>\n",
       "      <td>5.000000</td>\n",
       "    </tr>\n",
       "    <tr>\n",
       "      <th>mean</th>\n",
       "      <td>103.000000</td>\n",
       "      <td>316.000000</td>\n",
       "      <td>4.260000</td>\n",
       "    </tr>\n",
       "    <tr>\n",
       "      <th>std</th>\n",
       "      <td>1.581139</td>\n",
       "      <td>329.438917</td>\n",
       "      <td>0.397492</td>\n",
       "    </tr>\n",
       "    <tr>\n",
       "      <th>min</th>\n",
       "      <td>101.000000</td>\n",
       "      <td>30.000000</td>\n",
       "      <td>3.800000</td>\n",
       "    </tr>\n",
       "    <tr>\n",
       "      <th>25%</th>\n",
       "      <td>102.000000</td>\n",
       "      <td>50.000000</td>\n",
       "      <td>4.000000</td>\n",
       "    </tr>\n",
       "    <tr>\n",
       "      <th>50%</th>\n",
       "      <td>103.000000</td>\n",
       "      <td>200.000000</td>\n",
       "      <td>4.200000</td>\n",
       "    </tr>\n",
       "    <tr>\n",
       "      <th>75%</th>\n",
       "      <td>104.000000</td>\n",
       "      <td>500.000000</td>\n",
       "      <td>4.500000</td>\n",
       "    </tr>\n",
       "    <tr>\n",
       "      <th>max</th>\n",
       "      <td>105.000000</td>\n",
       "      <td>800.000000</td>\n",
       "      <td>4.800000</td>\n",
       "    </tr>\n",
       "  </tbody>\n",
       "</table>\n",
       "</div>"
      ],
      "text/plain": [
       "       product_id       price   ratings\n",
       "count    5.000000    5.000000  5.000000\n",
       "mean   103.000000  316.000000  4.260000\n",
       "std      1.581139  329.438917  0.397492\n",
       "min    101.000000   30.000000  3.800000\n",
       "25%    102.000000   50.000000  4.000000\n",
       "50%    103.000000  200.000000  4.200000\n",
       "75%    104.000000  500.000000  4.500000\n",
       "max    105.000000  800.000000  4.800000"
      ]
     },
     "execution_count": 7,
     "metadata": {},
     "output_type": "execute_result"
    }
   ],
   "source": [
    "product.describe()"
   ]
  },
  {
   "cell_type": "code",
   "execution_count": 8,
   "id": "b79acf16",
   "metadata": {},
   "outputs": [
    {
     "data": {
      "text/html": [
       "<div>\n",
       "<style scoped>\n",
       "    .dataframe tbody tr th:only-of-type {\n",
       "        vertical-align: middle;\n",
       "    }\n",
       "\n",
       "    .dataframe tbody tr th {\n",
       "        vertical-align: top;\n",
       "    }\n",
       "\n",
       "    .dataframe thead th {\n",
       "        text-align: right;\n",
       "    }\n",
       "</style>\n",
       "<table border=\"1\" class=\"dataframe\">\n",
       "  <thead>\n",
       "    <tr style=\"text-align: right;\">\n",
       "      <th></th>\n",
       "      <th>product_id</th>\n",
       "      <th>price</th>\n",
       "      <th>ratings</th>\n",
       "    </tr>\n",
       "  </thead>\n",
       "  <tbody>\n",
       "    <tr>\n",
       "      <th>product_id</th>\n",
       "      <td>1.000000</td>\n",
       "      <td>0.278370</td>\n",
       "      <td>0.318223</td>\n",
       "    </tr>\n",
       "    <tr>\n",
       "      <th>price</th>\n",
       "      <td>0.278370</td>\n",
       "      <td>1.000000</td>\n",
       "      <td>0.972131</td>\n",
       "    </tr>\n",
       "    <tr>\n",
       "      <th>ratings</th>\n",
       "      <td>0.318223</td>\n",
       "      <td>0.972131</td>\n",
       "      <td>1.000000</td>\n",
       "    </tr>\n",
       "  </tbody>\n",
       "</table>\n",
       "</div>"
      ],
      "text/plain": [
       "            product_id     price   ratings\n",
       "product_id    1.000000  0.278370  0.318223\n",
       "price         0.278370  1.000000  0.972131\n",
       "ratings       0.318223  0.972131  1.000000"
      ]
     },
     "execution_count": 8,
     "metadata": {},
     "output_type": "execute_result"
    }
   ],
   "source": [
    "product.corr()"
   ]
  },
  {
   "cell_type": "markdown",
   "id": "b7cab8d2",
   "metadata": {},
   "source": [
    "#### Pada datframe produk terdapat 3 column unmanned yang harus dihapus agar dataset kita menjadi lebih rapi. Selanjutnya dari sini didapat insight bahwa total rows pada dataframe product hanya sebanyak 5. Selain itu disini juga didapatkan bahwa ratings dan price memiliki korelasi yang tinggi"
   ]
  },
  {
   "cell_type": "markdown",
   "id": "11ce4fe4",
   "metadata": {},
   "source": [
    "### Purchase DataFrame"
   ]
  },
  {
   "cell_type": "code",
   "execution_count": 9,
   "id": "4b14d326",
   "metadata": {},
   "outputs": [
    {
     "data": {
      "text/html": [
       "<div>\n",
       "<style scoped>\n",
       "    .dataframe tbody tr th:only-of-type {\n",
       "        vertical-align: middle;\n",
       "    }\n",
       "\n",
       "    .dataframe tbody tr th {\n",
       "        vertical-align: top;\n",
       "    }\n",
       "\n",
       "    .dataframe thead th {\n",
       "        text-align: right;\n",
       "    }\n",
       "</style>\n",
       "<table border=\"1\" class=\"dataframe\">\n",
       "  <thead>\n",
       "    <tr style=\"text-align: right;\">\n",
       "      <th></th>\n",
       "      <th>customer_id</th>\n",
       "      <th>product_id</th>\n",
       "      <th>purchase_date</th>\n",
       "      <th>Unnamed: 3</th>\n",
       "      <th>Unnamed: 4</th>\n",
       "      <th>Unnamed: 5</th>\n",
       "      <th>Unnamed: 6</th>\n",
       "    </tr>\n",
       "  </thead>\n",
       "  <tbody>\n",
       "    <tr>\n",
       "      <th>0</th>\n",
       "      <td>1</td>\n",
       "      <td>101</td>\n",
       "      <td>2023-01-01</td>\n",
       "      <td>NaN</td>\n",
       "      <td>NaN</td>\n",
       "      <td>NaN</td>\n",
       "      <td>NaN</td>\n",
       "    </tr>\n",
       "    <tr>\n",
       "      <th>1</th>\n",
       "      <td>1</td>\n",
       "      <td>105</td>\n",
       "      <td>2023-01-05</td>\n",
       "      <td>NaN</td>\n",
       "      <td>NaN</td>\n",
       "      <td>NaN</td>\n",
       "      <td>NaN</td>\n",
       "    </tr>\n",
       "    <tr>\n",
       "      <th>2</th>\n",
       "      <td>2</td>\n",
       "      <td>102</td>\n",
       "      <td>2023-01-02</td>\n",
       "      <td>NaN</td>\n",
       "      <td>NaN</td>\n",
       "      <td>NaN</td>\n",
       "      <td>NaN</td>\n",
       "    </tr>\n",
       "    <tr>\n",
       "      <th>3</th>\n",
       "      <td>3</td>\n",
       "      <td>103</td>\n",
       "      <td>2023-01-03</td>\n",
       "      <td>NaN</td>\n",
       "      <td>NaN</td>\n",
       "      <td>NaN</td>\n",
       "      <td>NaN</td>\n",
       "    </tr>\n",
       "    <tr>\n",
       "      <th>4</th>\n",
       "      <td>4</td>\n",
       "      <td>104</td>\n",
       "      <td>2023-01-04</td>\n",
       "      <td>NaN</td>\n",
       "      <td>NaN</td>\n",
       "      <td>NaN</td>\n",
       "      <td>NaN</td>\n",
       "    </tr>\n",
       "  </tbody>\n",
       "</table>\n",
       "</div>"
      ],
      "text/plain": [
       "   customer_id  product_id purchase_date  Unnamed: 3  Unnamed: 4  Unnamed: 5  \\\n",
       "0            1         101    2023-01-01         NaN         NaN         NaN   \n",
       "1            1         105    2023-01-05         NaN         NaN         NaN   \n",
       "2            2         102    2023-01-02         NaN         NaN         NaN   \n",
       "3            3         103    2023-01-03         NaN         NaN         NaN   \n",
       "4            4         104    2023-01-04         NaN         NaN         NaN   \n",
       "\n",
       "   Unnamed: 6  \n",
       "0         NaN  \n",
       "1         NaN  \n",
       "2         NaN  \n",
       "3         NaN  \n",
       "4         NaN  "
      ]
     },
     "execution_count": 9,
     "metadata": {},
     "output_type": "execute_result"
    }
   ],
   "source": [
    "purchase.head()"
   ]
  },
  {
   "cell_type": "code",
   "execution_count": 11,
   "id": "79b8d7cf",
   "metadata": {},
   "outputs": [],
   "source": [
    "purchase.drop(columns=purchase.columns[-4:],inplace=True)"
   ]
  },
  {
   "cell_type": "code",
   "execution_count": 12,
   "id": "0817fd28",
   "metadata": {},
   "outputs": [
    {
     "data": {
      "text/plain": [
       "customer_id      0\n",
       "product_id       0\n",
       "purchase_date    0\n",
       "dtype: int64"
      ]
     },
     "execution_count": 12,
     "metadata": {},
     "output_type": "execute_result"
    }
   ],
   "source": [
    "purchase.isna().sum()"
   ]
  },
  {
   "cell_type": "code",
   "execution_count": 13,
   "id": "fba6fc2a",
   "metadata": {},
   "outputs": [
    {
     "data": {
      "text/html": [
       "<div>\n",
       "<style scoped>\n",
       "    .dataframe tbody tr th:only-of-type {\n",
       "        vertical-align: middle;\n",
       "    }\n",
       "\n",
       "    .dataframe tbody tr th {\n",
       "        vertical-align: top;\n",
       "    }\n",
       "\n",
       "    .dataframe thead th {\n",
       "        text-align: right;\n",
       "    }\n",
       "</style>\n",
       "<table border=\"1\" class=\"dataframe\">\n",
       "  <thead>\n",
       "    <tr style=\"text-align: right;\">\n",
       "      <th></th>\n",
       "      <th>customer_id</th>\n",
       "      <th>product_id</th>\n",
       "    </tr>\n",
       "  </thead>\n",
       "  <tbody>\n",
       "    <tr>\n",
       "      <th>count</th>\n",
       "      <td>6.000000</td>\n",
       "      <td>6.000000</td>\n",
       "    </tr>\n",
       "    <tr>\n",
       "      <th>mean</th>\n",
       "      <td>2.666667</td>\n",
       "      <td>102.666667</td>\n",
       "    </tr>\n",
       "    <tr>\n",
       "      <th>std</th>\n",
       "      <td>1.632993</td>\n",
       "      <td>1.632993</td>\n",
       "    </tr>\n",
       "    <tr>\n",
       "      <th>min</th>\n",
       "      <td>1.000000</td>\n",
       "      <td>101.000000</td>\n",
       "    </tr>\n",
       "    <tr>\n",
       "      <th>25%</th>\n",
       "      <td>1.250000</td>\n",
       "      <td>101.250000</td>\n",
       "    </tr>\n",
       "    <tr>\n",
       "      <th>50%</th>\n",
       "      <td>2.500000</td>\n",
       "      <td>102.500000</td>\n",
       "    </tr>\n",
       "    <tr>\n",
       "      <th>75%</th>\n",
       "      <td>3.750000</td>\n",
       "      <td>103.750000</td>\n",
       "    </tr>\n",
       "    <tr>\n",
       "      <th>max</th>\n",
       "      <td>5.000000</td>\n",
       "      <td>105.000000</td>\n",
       "    </tr>\n",
       "  </tbody>\n",
       "</table>\n",
       "</div>"
      ],
      "text/plain": [
       "       customer_id  product_id\n",
       "count     6.000000    6.000000\n",
       "mean      2.666667  102.666667\n",
       "std       1.632993    1.632993\n",
       "min       1.000000  101.000000\n",
       "25%       1.250000  101.250000\n",
       "50%       2.500000  102.500000\n",
       "75%       3.750000  103.750000\n",
       "max       5.000000  105.000000"
      ]
     },
     "execution_count": 13,
     "metadata": {},
     "output_type": "execute_result"
    }
   ],
   "source": [
    "purchase.describe()"
   ]
  },
  {
   "cell_type": "markdown",
   "id": "b057c478",
   "metadata": {},
   "source": [
    "#### Dataframe purchase berisi data pembelian dari customer id tertentu terhadap produk dengan id tertentu. Terdapat 4 buah column unmanned yang harus dihilangkan. Selain itu terdapat juga tanggal pembelian customer. Total data pada dataframe ini adalah 6"
   ]
  },
  {
   "cell_type": "markdown",
   "id": "7c2fd120",
   "metadata": {},
   "source": [
    "### Interactions"
   ]
  },
  {
   "cell_type": "code",
   "execution_count": 14,
   "id": "2739ff58",
   "metadata": {},
   "outputs": [
    {
     "data": {
      "text/html": [
       "<div>\n",
       "<style scoped>\n",
       "    .dataframe tbody tr th:only-of-type {\n",
       "        vertical-align: middle;\n",
       "    }\n",
       "\n",
       "    .dataframe tbody tr th {\n",
       "        vertical-align: top;\n",
       "    }\n",
       "\n",
       "    .dataframe thead th {\n",
       "        text-align: right;\n",
       "    }\n",
       "</style>\n",
       "<table border=\"1\" class=\"dataframe\">\n",
       "  <thead>\n",
       "    <tr style=\"text-align: right;\">\n",
       "      <th></th>\n",
       "      <th>customer_id</th>\n",
       "      <th>page_views</th>\n",
       "      <th>time_spent</th>\n",
       "    </tr>\n",
       "  </thead>\n",
       "  <tbody>\n",
       "    <tr>\n",
       "      <th>0</th>\n",
       "      <td>1</td>\n",
       "      <td>25</td>\n",
       "      <td>120</td>\n",
       "    </tr>\n",
       "    <tr>\n",
       "      <th>1</th>\n",
       "      <td>2</td>\n",
       "      <td>20</td>\n",
       "      <td>90</td>\n",
       "    </tr>\n",
       "    <tr>\n",
       "      <th>2</th>\n",
       "      <td>3</td>\n",
       "      <td>30</td>\n",
       "      <td>150</td>\n",
       "    </tr>\n",
       "    <tr>\n",
       "      <th>3</th>\n",
       "      <td>4</td>\n",
       "      <td>15</td>\n",
       "      <td>80</td>\n",
       "    </tr>\n",
       "    <tr>\n",
       "      <th>4</th>\n",
       "      <td>5</td>\n",
       "      <td>22</td>\n",
       "      <td>110</td>\n",
       "    </tr>\n",
       "  </tbody>\n",
       "</table>\n",
       "</div>"
      ],
      "text/plain": [
       "   customer_id  page_views  time_spent\n",
       "0            1          25         120\n",
       "1            2          20          90\n",
       "2            3          30         150\n",
       "3            4          15          80\n",
       "4            5          22         110"
      ]
     },
     "execution_count": 14,
     "metadata": {},
     "output_type": "execute_result"
    }
   ],
   "source": [
    "interactions.head()"
   ]
  },
  {
   "cell_type": "code",
   "execution_count": 15,
   "id": "12393173",
   "metadata": {},
   "outputs": [
    {
     "data": {
      "text/plain": [
       "customer_id    0\n",
       "page_views     0\n",
       "time_spent     0\n",
       "dtype: int64"
      ]
     },
     "execution_count": 15,
     "metadata": {},
     "output_type": "execute_result"
    }
   ],
   "source": [
    "interactions.isna().sum()"
   ]
  },
  {
   "cell_type": "code",
   "execution_count": 16,
   "id": "e055ad9f",
   "metadata": {},
   "outputs": [
    {
     "data": {
      "text/html": [
       "<div>\n",
       "<style scoped>\n",
       "    .dataframe tbody tr th:only-of-type {\n",
       "        vertical-align: middle;\n",
       "    }\n",
       "\n",
       "    .dataframe tbody tr th {\n",
       "        vertical-align: top;\n",
       "    }\n",
       "\n",
       "    .dataframe thead th {\n",
       "        text-align: right;\n",
       "    }\n",
       "</style>\n",
       "<table border=\"1\" class=\"dataframe\">\n",
       "  <thead>\n",
       "    <tr style=\"text-align: right;\">\n",
       "      <th></th>\n",
       "      <th>customer_id</th>\n",
       "      <th>page_views</th>\n",
       "      <th>time_spent</th>\n",
       "    </tr>\n",
       "  </thead>\n",
       "  <tbody>\n",
       "    <tr>\n",
       "      <th>count</th>\n",
       "      <td>5.000000</td>\n",
       "      <td>5.00000</td>\n",
       "      <td>5.000000</td>\n",
       "    </tr>\n",
       "    <tr>\n",
       "      <th>mean</th>\n",
       "      <td>3.000000</td>\n",
       "      <td>22.40000</td>\n",
       "      <td>110.000000</td>\n",
       "    </tr>\n",
       "    <tr>\n",
       "      <th>std</th>\n",
       "      <td>1.581139</td>\n",
       "      <td>5.59464</td>\n",
       "      <td>27.386128</td>\n",
       "    </tr>\n",
       "    <tr>\n",
       "      <th>min</th>\n",
       "      <td>1.000000</td>\n",
       "      <td>15.00000</td>\n",
       "      <td>80.000000</td>\n",
       "    </tr>\n",
       "    <tr>\n",
       "      <th>25%</th>\n",
       "      <td>2.000000</td>\n",
       "      <td>20.00000</td>\n",
       "      <td>90.000000</td>\n",
       "    </tr>\n",
       "    <tr>\n",
       "      <th>50%</th>\n",
       "      <td>3.000000</td>\n",
       "      <td>22.00000</td>\n",
       "      <td>110.000000</td>\n",
       "    </tr>\n",
       "    <tr>\n",
       "      <th>75%</th>\n",
       "      <td>4.000000</td>\n",
       "      <td>25.00000</td>\n",
       "      <td>120.000000</td>\n",
       "    </tr>\n",
       "    <tr>\n",
       "      <th>max</th>\n",
       "      <td>5.000000</td>\n",
       "      <td>30.00000</td>\n",
       "      <td>150.000000</td>\n",
       "    </tr>\n",
       "  </tbody>\n",
       "</table>\n",
       "</div>"
      ],
      "text/plain": [
       "       customer_id  page_views  time_spent\n",
       "count     5.000000     5.00000    5.000000\n",
       "mean      3.000000    22.40000  110.000000\n",
       "std       1.581139     5.59464   27.386128\n",
       "min       1.000000    15.00000   80.000000\n",
       "25%       2.000000    20.00000   90.000000\n",
       "50%       3.000000    22.00000  110.000000\n",
       "75%       4.000000    25.00000  120.000000\n",
       "max       5.000000    30.00000  150.000000"
      ]
     },
     "execution_count": 16,
     "metadata": {},
     "output_type": "execute_result"
    }
   ],
   "source": [
    "interactions.describe()"
   ]
  },
  {
   "cell_type": "code",
   "execution_count": 17,
   "id": "de88f67b",
   "metadata": {},
   "outputs": [
    {
     "data": {
      "text/html": [
       "<div>\n",
       "<style scoped>\n",
       "    .dataframe tbody tr th:only-of-type {\n",
       "        vertical-align: middle;\n",
       "    }\n",
       "\n",
       "    .dataframe tbody tr th {\n",
       "        vertical-align: top;\n",
       "    }\n",
       "\n",
       "    .dataframe thead th {\n",
       "        text-align: right;\n",
       "    }\n",
       "</style>\n",
       "<table border=\"1\" class=\"dataframe\">\n",
       "  <thead>\n",
       "    <tr style=\"text-align: right;\">\n",
       "      <th></th>\n",
       "      <th>customer_id</th>\n",
       "      <th>page_views</th>\n",
       "      <th>time_spent</th>\n",
       "    </tr>\n",
       "  </thead>\n",
       "  <tbody>\n",
       "    <tr>\n",
       "      <th>customer_id</th>\n",
       "      <td>1.000000</td>\n",
       "      <td>-0.310878</td>\n",
       "      <td>-0.173205</td>\n",
       "    </tr>\n",
       "    <tr>\n",
       "      <th>page_views</th>\n",
       "      <td>-0.310878</td>\n",
       "      <td>1.000000</td>\n",
       "      <td>0.979013</td>\n",
       "    </tr>\n",
       "    <tr>\n",
       "      <th>time_spent</th>\n",
       "      <td>-0.173205</td>\n",
       "      <td>0.979013</td>\n",
       "      <td>1.000000</td>\n",
       "    </tr>\n",
       "  </tbody>\n",
       "</table>\n",
       "</div>"
      ],
      "text/plain": [
       "             customer_id  page_views  time_spent\n",
       "customer_id     1.000000   -0.310878   -0.173205\n",
       "page_views     -0.310878    1.000000    0.979013\n",
       "time_spent     -0.173205    0.979013    1.000000"
      ]
     },
     "execution_count": 17,
     "metadata": {},
     "output_type": "execute_result"
    }
   ],
   "source": [
    "interactions.corr()"
   ]
  },
  {
   "cell_type": "markdown",
   "id": "e3665ab6",
   "metadata": {},
   "source": [
    "#### Pada interactions, dapat diketahui bahwa dataframe ini berisi data customer dengan id tertentu, halaman total yang dilihat, dan waktu yang dihabiskan oleh customer. Asumsi saya pada data ini, page_views dan time_spent merupakan data akumulasi dari seluruh kegiatan user dalam menggunakan aplikasi/website. Antara page_views dan time_spent memiliki korelasi yang cukup tinggi"
   ]
  },
  {
   "cell_type": "markdown",
   "id": "aef41cf3",
   "metadata": {},
   "source": [
    "### Spending Money by Customer\n",
    "pada tahap ini kita akan melakukan EDA dengan melihat data siapa customer yang menghabiskan uang paling banyak."
   ]
  },
  {
   "cell_type": "code",
   "execution_count": 18,
   "id": "ea4e8718",
   "metadata": {},
   "outputs": [
    {
     "data": {
      "image/png": "[encoded data removed]",
      "text/plain": [
       "<Figure size 1000x600 with 1 Axes>"
      ]
     },
     "metadata": {},
     "output_type": "display_data"
    }
   ],
   "source": [
    "purchase_product = pd.merge(purchase,product,on=\"product_id\")\n",
    "customer_spent = purchase_product.groupby(\"customer_id\")[\"price\"].sum()\n",
    "customer_spent.plot(kind='bar', figsize=(10, 6), color='skyblue')\n",
    "plt.title('Total Spent by Customer')\n",
    "plt.xlabel('Customer ID')\n",
    "plt.ylabel('Total Spent')\n",
    "plt.xticks(rotation=0)  \n",
    "plt.show()"
   ]
  },
  {
   "cell_type": "markdown",
   "id": "53dd9487",
   "metadata": {},
   "source": [
    "#### Dari data diatas terlihat bahwa customer 1 menghabiskan banyak uang untuk membeli produk dari terra store, disusul oleh customer 5, customer 3, customer 2, dan terakhir 4. Bisa kita asumsikan bahwa uang yang dimiliki oleh customer pertama lebih banyak dibandingkan dengan yang lain. "
   ]
  },
  {
   "cell_type": "markdown",
   "id": "e02880c1",
   "metadata": {},
   "source": [
    "### Average product ratings\n",
    "Disini kita akan melihat rata-rata rating produk yang dibeli oleh customer. Dari data yang sebelumnya kita dapatkan, terlihat bahwa korelasi antara rating dan harga produk tinggi."
   ]
  },
  {
   "cell_type": "code",
   "execution_count": 19,
   "id": "10a1dc88",
   "metadata": {},
   "outputs": [
    {
     "data": {
      "image/png": "[encoded data removed]",
      "text/plain": [
       "<Figure size 1000x600 with 1 Axes>"
      ]
     },
     "metadata": {},
     "output_type": "display_data"
    }
   ],
   "source": [
    "customer_ratings = purchase_product.groupby(\"customer_id\")[\"ratings\"].mean()\n",
    "customer_ratings.plot(kind='bar', figsize=(10, 6), color='orchid')\n",
    "plt.title('Average Rating that customer choose')\n",
    "plt.xlabel('Customer ID')\n",
    "plt.ylabel('Average Rating')\n",
    "plt.xticks(rotation=0) \n",
    "plt.show()"
   ]
  },
  {
   "cell_type": "markdown",
   "id": "da0fdc1b",
   "metadata": {},
   "source": [
    "#### Dari sini dapat dilihat bahwa customer 1 membeli produk dengan rata-rata rating yang lebih tinggi dibandingkan dengan customer lainnya. "
   ]
  },
  {
   "cell_type": "markdown",
   "id": "f55e9bc1",
   "metadata": {},
   "source": [
    "### Jumlah produk berdasarkan kategori\n",
    "selanjutnya akan dilihat jumlah produk berdasarkan kategori yang dibeli oleh tiap customer"
   ]
  },
  {
   "cell_type": "code",
   "execution_count": 20,
   "id": "af52fae5",
   "metadata": {},
   "outputs": [
    {
     "data": {
      "image/png": "[encoded data removed]",
      "text/plain": [
       "<Figure size 1000x600 with 1 Axes>"
      ]
     },
     "metadata": {},
     "output_type": "display_data"
    }
   ],
   "source": [
    "category_count = purchase_product.groupby(['customer_id', 'category']).size().unstack(fill_value=0)\n",
    "category_count.plot(kind='bar', stacked=True, figsize=(10, 6))\n",
    "plt.title('Categories Purchased by Customer')\n",
    "plt.xlabel('Customer ID')\n",
    "plt.ylabel('Total Categories Purchased')\n",
    "plt.xticks(rotation=0)\n",
    "plt.legend(title='Category', bbox_to_anchor=(1.05, 1), loc='upper left') \n",
    "plt.tight_layout()\n",
    "plt.show()"
   ]
  },
  {
   "cell_type": "markdown",
   "id": "417f962e",
   "metadata": {},
   "source": [
    "#### dari data diatas dapat dilihat bahwa produk electronic yang paling diminati oleh banyak customer terbukti dengan 3 jumlah pembelian"
   ]
  },
  {
   "cell_type": "markdown",
   "id": "449ae0c1",
   "metadata": {},
   "source": [
    "### harga rata-rata tiap kategori produk\n",
    "selanjutnya kita akan melihat harga rata-rata dari tiap kategori produk untuk mengetahui mengapa salah satu produk banyak diminati?"
   ]
  },
  {
   "cell_type": "code",
   "execution_count": 22,
   "id": "d8cabc1e",
   "metadata": {},
   "outputs": [
    {
     "data": {
      "image/png": "[encoded data removed]",
      "text/plain": [
       "<Figure size 1000x600 with 1 Axes>"
      ]
     },
     "metadata": {},
     "output_type": "display_data"
    }
   ],
   "source": [
    "product_price_average = product.groupby(\"category\")[\"price\"].mean()\n",
    "product_price_average.plot(kind='bar', figsize=(10, 6), color='maroon')\n",
    "plt.title('Average Product Price')\n",
    "plt.xlabel('Customer ID')\n",
    "plt.ylabel('Average Price')\n",
    "plt.xticks(rotation=0)  \n",
    "plt.show()"
   ]
  },
  {
   "cell_type": "markdown",
   "id": "400fd4b5",
   "metadata": {},
   "source": [
    "#### ternyata dari sini electronics sebagai produk yang diminati, memiliki rata-rata harga yang paling tinggi dibandingkan produk lainnya. Sehingga asumsi mengenai pembelian electronics karena memiliki harga murah terpatahkan. Asumsi lain yang dapat timbul adalah kategori electronics sedang mengeluarkan produk terbaru sehingga penjualannya meningkat. Namun asusmsi ini tidak dapat menjadi tesis karena tidak dimilikinya data pendukung lainnya."
   ]
  },
  {
   "cell_type": "markdown",
   "id": "1f71b4a2",
   "metadata": {},
   "source": [
    "### interactions vs product\n",
    "selanjutnya akan diselidiki apakah pembelian sebuah produk dipengaruhi oleh user interaksi dengan aplikasi?"
   ]
  },
  {
   "cell_type": "code",
   "execution_count": 23,
   "id": "a37e3b12",
   "metadata": {},
   "outputs": [],
   "source": [
    "interactions_product = interactions.copy()\n",
    "interactions_product[\"average_ratings\"] = customer_ratings.values\n",
    "interactions_product[\"total_spent\"] = customer_spent.values"
   ]
  },
  {
   "cell_type": "code",
   "execution_count": 25,
   "id": "bccf34e4",
   "metadata": {},
   "outputs": [
    {
     "data": {
      "image/png": "[encoded data removed]",
      "text/plain": [
       "<Figure size 1000x500 with 1 Axes>"
      ]
     },
     "metadata": {},
     "output_type": "display_data"
    }
   ],
   "source": [
    "plt.figure(figsize=(10,5))\n",
    "plt.scatter(interactions_product.time_spent,interactions_product.average_ratings)\n",
    "plt.title('time_spent vs average_ratings')\n",
    "plt.xlabel('time spent')\n",
    "plt.ylabel('average ratings')\n",
    "plt.grid()\n",
    "plt.show()"
   ]
  },
  {
   "cell_type": "markdown",
   "id": "cd410e7f",
   "metadata": {},
   "source": [
    "#### Disini terlihat bahwa pemilihan rating berdasarkan lama waktu yang user habiskan untuk mencari produk tidak linear. namun sebenarnya bila kita amati lebih lanjut grafik diatas bisa saja linear, namun terdapat outlier yaitu pada time_spent = 150. Kita akan coba untuk data yang lain"
   ]
  },
  {
   "cell_type": "code",
   "execution_count": 26,
   "id": "48d08678",
   "metadata": {},
   "outputs": [
    {
     "data": {
      "image/png": "[encoded data removed]",
      "text/plain": [
       "<Figure size 1000x500 with 1 Axes>"
      ]
     },
     "metadata": {},
     "output_type": "display_data"
    }
   ],
   "source": [
    "plt.figure(figsize=(10,5))\n",
    "plt.scatter(interactions_product.time_spent,interactions_product.total_spent,color=\"maroon\")\n",
    "plt.title('time_spent vs total_spent')\n",
    "plt.xlabel('time spent')\n",
    "plt.ylabel('total_spent')\n",
    "plt.grid()\n",
    "plt.show()"
   ]
  },
  {
   "cell_type": "markdown",
   "id": "26946714",
   "metadata": {},
   "source": [
    "#### Disini dapat dilihat juga bahwa data pada time_spent 150 menjadi outlier "
   ]
  },
  {
   "cell_type": "code",
   "execution_count": 29,
   "id": "a415fddb",
   "metadata": {},
   "outputs": [
    {
     "data": {
      "image/png": "[encoded data removed]",
      "text/plain": [
       "<Figure size 1000x500 with 1 Axes>"
      ]
     },
     "metadata": {},
     "output_type": "display_data"
    }
   ],
   "source": [
    "plt.figure(figsize=(10,5))\n",
    "plt.scatter(interactions_product.page_views,interactions_product.average_ratings,color=\"orange\")\n",
    "plt.title('page_views vs average_ratings')\n",
    "plt.xlabel('page_views')\n",
    "plt.ylabel('average_ratings')\n",
    "plt.grid()\n",
    "plt.show()"
   ]
  },
  {
   "cell_type": "markdown",
   "id": "d007038e",
   "metadata": {},
   "source": [
    "#### Disini dapat dilihat juga bahwa page_views 30 menjadi nilai outlier dari keseluruhan data. Kita coba cek dengan fitur total spent. "
   ]
  },
  {
   "cell_type": "code",
   "execution_count": 30,
   "id": "32d2dc9d",
   "metadata": {},
   "outputs": [
    {
     "data": {
      "image/png": "[encoded data removed]",
      "text/plain": [
       "<Figure size 1000x500 with 1 Axes>"
      ]
     },
     "metadata": {},
     "output_type": "display_data"
    }
   ],
   "source": [
    "plt.figure(figsize=(10,5))\n",
    "plt.scatter(interactions_product.page_views,interactions_product.total_spent,color=\"pink\")\n",
    "plt.title('page_views vs total_spent')\n",
    "plt.xlabel('page_views')\n",
    "plt.ylabel('total_spent')\n",
    "plt.grid()\n",
    "plt.show()"
   ]
  },
  {
   "cell_type": "markdown",
   "id": "cc920590",
   "metadata": {},
   "source": [
    "#### ternyata hasilnya sama juga, dimana page_views 30 menjadi outlier pada grafik diatas  "
   ]
  },
  {
   "cell_type": "markdown",
   "id": "c752bdca",
   "metadata": {},
   "source": [
    "kita akan cek apakah page_views 30 dan time_spent 150 dimiliki oleh user yang sama?"
   ]
  },
  {
   "cell_type": "code",
   "execution_count": 31,
   "id": "841f3389",
   "metadata": {},
   "outputs": [
    {
     "data": {
      "text/html": [
       "<div>\n",
       "<style scoped>\n",
       "    .dataframe tbody tr th:only-of-type {\n",
       "        vertical-align: middle;\n",
       "    }\n",
       "\n",
       "    .dataframe tbody tr th {\n",
       "        vertical-align: top;\n",
       "    }\n",
       "\n",
       "    .dataframe thead th {\n",
       "        text-align: right;\n",
       "    }\n",
       "</style>\n",
       "<table border=\"1\" class=\"dataframe\">\n",
       "  <thead>\n",
       "    <tr style=\"text-align: right;\">\n",
       "      <th></th>\n",
       "      <th>customer_id</th>\n",
       "      <th>page_views</th>\n",
       "      <th>time_spent</th>\n",
       "      <th>average_ratings</th>\n",
       "      <th>total_spent</th>\n",
       "    </tr>\n",
       "  </thead>\n",
       "  <tbody>\n",
       "    <tr>\n",
       "      <th>2</th>\n",
       "      <td>3</td>\n",
       "      <td>30</td>\n",
       "      <td>150</td>\n",
       "      <td>4.2</td>\n",
       "      <td>200</td>\n",
       "    </tr>\n",
       "  </tbody>\n",
       "</table>\n",
       "</div>"
      ],
      "text/plain": [
       "   customer_id  page_views  time_spent  average_ratings  total_spent\n",
       "2            3          30         150              4.2          200"
      ]
     },
     "execution_count": 31,
     "metadata": {},
     "output_type": "execute_result"
    }
   ],
   "source": [
    "interactions_product[(interactions_product[\"time_spent\"]==150) & (interactions_product[\"page_views\"]==30)]"
   ]
  },
  {
   "cell_type": "markdown",
   "id": "6bd109a9",
   "metadata": {},
   "source": [
    "#### ternyata data ini dimiliki oleh customer nomer 3.  kita akan coba lihat nilai korelasi sebelum dan sesudah customer 3 dihapus"
   ]
  },
  {
   "cell_type": "code",
   "execution_count": 33,
   "id": "403536c1",
   "metadata": {},
   "outputs": [
    {
     "data": {
      "text/html": [
       "<div>\n",
       "<style scoped>\n",
       "    .dataframe tbody tr th:only-of-type {\n",
       "        vertical-align: middle;\n",
       "    }\n",
       "\n",
       "    .dataframe tbody tr th {\n",
       "        vertical-align: top;\n",
       "    }\n",
       "\n",
       "    .dataframe thead th {\n",
       "        text-align: right;\n",
       "    }\n",
       "</style>\n",
       "<table border=\"1\" class=\"dataframe\">\n",
       "  <thead>\n",
       "    <tr style=\"text-align: right;\">\n",
       "      <th></th>\n",
       "      <th>customer_id</th>\n",
       "      <th>page_views</th>\n",
       "      <th>time_spent</th>\n",
       "      <th>average_ratings</th>\n",
       "      <th>total_spent</th>\n",
       "    </tr>\n",
       "  </thead>\n",
       "  <tbody>\n",
       "    <tr>\n",
       "      <th>customer_id</th>\n",
       "      <td>1.000000</td>\n",
       "      <td>-0.310878</td>\n",
       "      <td>-0.173205</td>\n",
       "      <td>-0.045268</td>\n",
       "      <td>-0.484474</td>\n",
       "    </tr>\n",
       "    <tr>\n",
       "      <th>page_views</th>\n",
       "      <td>-0.310878</td>\n",
       "      <td>1.000000</td>\n",
       "      <td>0.979013</td>\n",
       "      <td>0.446492</td>\n",
       "      <td>0.368333</td>\n",
       "    </tr>\n",
       "    <tr>\n",
       "      <th>time_spent</th>\n",
       "      <td>-0.173205</td>\n",
       "      <td>0.979013</td>\n",
       "      <td>1.000000</td>\n",
       "      <td>0.483505</td>\n",
       "      <td>0.329783</td>\n",
       "    </tr>\n",
       "    <tr>\n",
       "      <th>average_ratings</th>\n",
       "      <td>-0.045268</td>\n",
       "      <td>0.446492</td>\n",
       "      <td>0.483505</td>\n",
       "      <td>1.000000</td>\n",
       "      <td>0.875350</td>\n",
       "    </tr>\n",
       "    <tr>\n",
       "      <th>total_spent</th>\n",
       "      <td>-0.484474</td>\n",
       "      <td>0.368333</td>\n",
       "      <td>0.329783</td>\n",
       "      <td>0.875350</td>\n",
       "      <td>1.000000</td>\n",
       "    </tr>\n",
       "  </tbody>\n",
       "</table>\n",
       "</div>"
      ],
      "text/plain": [
       "                 customer_id  page_views  time_spent  average_ratings  \\\n",
       "customer_id         1.000000   -0.310878   -0.173205        -0.045268   \n",
       "page_views         -0.310878    1.000000    0.979013         0.446492   \n",
       "time_spent         -0.173205    0.979013    1.000000         0.483505   \n",
       "average_ratings    -0.045268    0.446492    0.483505         1.000000   \n",
       "total_spent        -0.484474    0.368333    0.329783         0.875350   \n",
       "\n",
       "                 total_spent  \n",
       "customer_id        -0.484474  \n",
       "page_views          0.368333  \n",
       "time_spent          0.329783  \n",
       "average_ratings     0.875350  \n",
       "total_spent         1.000000  "
      ]
     },
     "execution_count": 33,
     "metadata": {},
     "output_type": "execute_result"
    }
   ],
   "source": [
    "interactions_product.corr()"
   ]
  },
  {
   "cell_type": "markdown",
   "id": "a5f6242f",
   "metadata": {},
   "source": [
    "#### dapat dilihat jika korelasi antara page_views, time_spent terhadap total_spent dan average_ratings tidak linear "
   ]
  },
  {
   "cell_type": "code",
   "execution_count": 34,
   "id": "29dc115b",
   "metadata": {},
   "outputs": [],
   "source": [
    "interations_product_deleted = interactions_product[(interactions_product[\"time_spent\"]!=150) & (interactions_product[\"page_views\"]!=30)]"
   ]
  },
  {
   "cell_type": "code",
   "execution_count": 35,
   "id": "d73a79f3",
   "metadata": {},
   "outputs": [
    {
     "data": {
      "text/html": [
       "<div>\n",
       "<style scoped>\n",
       "    .dataframe tbody tr th:only-of-type {\n",
       "        vertical-align: middle;\n",
       "    }\n",
       "\n",
       "    .dataframe tbody tr th {\n",
       "        vertical-align: top;\n",
       "    }\n",
       "\n",
       "    .dataframe thead th {\n",
       "        text-align: right;\n",
       "    }\n",
       "</style>\n",
       "<table border=\"1\" class=\"dataframe\">\n",
       "  <thead>\n",
       "    <tr style=\"text-align: right;\">\n",
       "      <th></th>\n",
       "      <th>customer_id</th>\n",
       "      <th>page_views</th>\n",
       "      <th>time_spent</th>\n",
       "      <th>average_ratings</th>\n",
       "      <th>total_spent</th>\n",
       "    </tr>\n",
       "  </thead>\n",
       "  <tbody>\n",
       "    <tr>\n",
       "      <th>customer_id</th>\n",
       "      <td>1.000000</td>\n",
       "      <td>-0.477809</td>\n",
       "      <td>-0.300000</td>\n",
       "      <td>-0.045320</td>\n",
       "      <td>-0.497626</td>\n",
       "    </tr>\n",
       "    <tr>\n",
       "      <th>page_views</th>\n",
       "      <td>-0.477809</td>\n",
       "      <td>1.000000</td>\n",
       "      <td>0.955619</td>\n",
       "      <td>0.743139</td>\n",
       "      <td>0.855280</td>\n",
       "    </tr>\n",
       "    <tr>\n",
       "      <th>time_spent</th>\n",
       "      <td>-0.300000</td>\n",
       "      <td>0.955619</td>\n",
       "      <td>1.000000</td>\n",
       "      <td>0.906403</td>\n",
       "      <td>0.918458</td>\n",
       "    </tr>\n",
       "    <tr>\n",
       "      <th>average_ratings</th>\n",
       "      <td>-0.045320</td>\n",
       "      <td>0.743139</td>\n",
       "      <td>0.906403</td>\n",
       "      <td>1.000000</td>\n",
       "      <td>0.888874</td>\n",
       "    </tr>\n",
       "    <tr>\n",
       "      <th>total_spent</th>\n",
       "      <td>-0.497626</td>\n",
       "      <td>0.855280</td>\n",
       "      <td>0.918458</td>\n",
       "      <td>0.888874</td>\n",
       "      <td>1.000000</td>\n",
       "    </tr>\n",
       "  </tbody>\n",
       "</table>\n",
       "</div>"
      ],
      "text/plain": [
       "                 customer_id  page_views  time_spent  average_ratings  \\\n",
       "customer_id         1.000000   -0.477809   -0.300000        -0.045320   \n",
       "page_views         -0.477809    1.000000    0.955619         0.743139   \n",
       "time_spent         -0.300000    0.955619    1.000000         0.906403   \n",
       "average_ratings    -0.045320    0.743139    0.906403         1.000000   \n",
       "total_spent        -0.497626    0.855280    0.918458         0.888874   \n",
       "\n",
       "                 total_spent  \n",
       "customer_id        -0.497626  \n",
       "page_views          0.855280  \n",
       "time_spent          0.918458  \n",
       "average_ratings     0.888874  \n",
       "total_spent         1.000000  "
      ]
     },
     "execution_count": 35,
     "metadata": {},
     "output_type": "execute_result"
    }
   ],
   "source": [
    "interations_product_deleted.corr()"
   ]
  },
  {
   "cell_type": "markdown",
   "id": "023ff7bb",
   "metadata": {},
   "source": [
    "#### disini kita dapat melihat, setelah kita menghapus customer_id =3, korelasi antara total_spent dan page_views terhadap total_spent dan average_ratings meningkan. Dengan demikian keputusan untuk menghapus custom_id = 2 adalah keputusan yang benar"
   ]
  },
  {
   "cell_type": "markdown",
   "id": "6a9f7419",
   "metadata": {},
   "source": [
    "### Feature engineeering product.\n",
    "Disini karena kita tahu bahwa data produk kita sangat minim, selanjutnya kita akan mengenerate data produk untuk membuat data kita semakin kaya. Pada tabel produk, diketahui bahwa korelasi rating dan harga sangat tinggi. Kita akan manfaatkan ini untuk mengenerate beberapa produk. Selain itu, dari proses EDA diketahui juga bahwa produk dengan kategori electronic memiliki rata-rata harga tertinggi, disusul oleh Home & kitchen, clothing, dan beauty. Disini kita akan mengenerate produk dengan aturan sebagai berikut:\n",
    "\n",
    "- Harga electronic akan di generate antara 500 (nilai terendah) hingga 800 (nilai tertinggi) dengan rata-rata nilai mendekati 650\n",
    "- Harga Home & kitchen akan di generate antara 100 (nilai terendah) hingga 300(nilai tertinggi) dengan rata-rata nilai mendekati 200 \n",
    "- Harga beauty akan di generate antara 10 (nilai terendah) hingga 100 (nilai tertinggi) dengan rata-rata nilai mendekati 30.\n",
    "- Harga clothing akan di generate antara 10 (nilai terendah) hingga 100 (nilai tertinggi) dengan rata-rata nilai mendekati 50"
   ]
  },
  {
   "cell_type": "markdown",
   "id": "bdbb2c5e",
   "metadata": {},
   "source": [
    "Namun sebelum itu kita akan membuat sebuah model linear regresi untuk memprediksi ratings berdasarkan harga. Hal ini dilakukan karena korelasi yang tinggi antara kedua fitur ini. Selain itu pembuatan model juga memudahkan kita untuk mengenerate nilai"
   ]
  },
  {
   "cell_type": "code",
   "execution_count": 43,
   "id": "9e30e621",
   "metadata": {},
   "outputs": [
    {
     "data": {
      "text/plain": [
       "LinearRegression()"
      ]
     },
     "execution_count": 43,
     "metadata": {},
     "output_type": "execute_result"
    }
   ],
   "source": [
    "from sklearn.preprocessing import MinMaxScaler\n",
    "from sklearn.linear_model import LinearRegression\n",
    "price_scaler = MinMaxScaler()\n",
    "ratings_scaler = MinMaxScaler()\n",
    "X = price_scaler.fit_transform(product.price.values.reshape(-1,1))\n",
    "y = ratings_scaler.fit_transform(product.ratings.values.reshape(-1,1))\n",
    "model_ratings_lr = LinearRegression()\n",
    "model_ratings_lr.fit(X,y)"
   ]
  },
  {
   "cell_type": "code",
   "execution_count": 46,
   "id": "2e8d91f5",
   "metadata": {},
   "outputs": [
    {
     "data": {
      "image/png": "[encoded data removed]",
      "text/plain": [
       "<Figure size 640x480 with 1 Axes>"
      ]
     },
     "metadata": {},
     "output_type": "display_data"
    }
   ],
   "source": [
    "y_pred = model_ratings_lr.predict(X)\n",
    "plt.plot(X,y_pred,color=\"red\")\n",
    "plt.scatter(X,y,color=\"blue\")\n",
    "plt.title(\"Regression Plot\")\n",
    "plt.xlabel(\"Normalized price\")\n",
    "plt.ylabel(\"Normalized ratings\")\n",
    "plt.grid()\n",
    "plt.legend([\"Regression Line\",\"Actual Data\"])\n",
    "plt.show()"
   ]
  },
  {
   "cell_type": "markdown",
   "id": "15fd89b4",
   "metadata": {},
   "source": [
    "disini kita sudah dapat kan model untuk membantu kita mengenerate ratings berdasarkan harga"
   ]
  },
  {
   "cell_type": "markdown",
   "id": "9a7c1dc1",
   "metadata": {},
   "source": [
    "kita akan mengenerate 10 produk baru untuk tiap kategori"
   ]
  },
  {
   "cell_type": "code",
   "execution_count": 37,
   "id": "3a2ca18d",
   "metadata": {},
   "outputs": [],
   "source": [
    "categories = [\"Electronics\",\"Clothing\",\"Home & Kitchen\",\"Beauty\"]\n",
    "categories_list = [item for item in categories for _ in range(10)]"
   ]
  },
  {
   "cell_type": "code",
   "execution_count": 54,
   "id": "99342d2f",
   "metadata": {},
   "outputs": [],
   "source": [
    "import random\n",
    "def generate_random_series(n:int, target_mean:int,min_val:int,max_val:int)->List[int]:\n",
    "    series = [random.randint(min_val, max_val) for _ in range(n-1)]\n",
    "    current_sum = sum(series)\n",
    "    final_number = target_mean * n - current_sum\n",
    "    if final_number < 1 or final_number > 100:\n",
    "        return generate_random_series(n, target_mean,min_val,max_val)\n",
    "    else:\n",
    "        series.append(final_number)\n",
    "    \n",
    "    return series, sum(series) / n"
   ]
  },
  {
   "cell_type": "code",
   "execution_count": 67,
   "id": "e8ef2405",
   "metadata": {},
   "outputs": [],
   "source": [
    "price_list = []\n",
    "n = 11\n",
    "for c in categories:\n",
    "    if c == \"Electronics\":\n",
    "        target_mean = 650\n",
    "        max_val = 800\n",
    "        min_val = 500\n",
    "    elif c==\"Clothing\":\n",
    "        target_mean = 50\n",
    "        max_val = 100\n",
    "        min_val = 10\n",
    "    elif c ==\"Home & Kitchen\":\n",
    "        target_mean = 200\n",
    "        max_val = 300\n",
    "        min_val = 100\n",
    "    elif c ==\"Beauty\":\n",
    "        target_mean = 30\n",
    "        max_val = 100\n",
    "        min_val = 10\n",
    "    prices = generate_random_series(n,target_mean,min_val,max_val)\n",
    "    price_list.append(prices[0][:-1])"
   ]
  },
  {
   "cell_type": "code",
   "execution_count": 69,
   "id": "98357855",
   "metadata": {},
   "outputs": [],
   "source": [
    "price_list=np.array(price_list)"
   ]
  },
  {
   "cell_type": "code",
   "execution_count": 72,
   "id": "27b0a30a",
   "metadata": {},
   "outputs": [],
   "source": [
    "price_list = price_list.flatten()"
   ]
  },
  {
   "cell_type": "code",
   "execution_count": 74,
   "id": "0bba2f39",
   "metadata": {},
   "outputs": [],
   "source": [
    "product_added = pd.DataFrame({\n",
    "    \"category\":categories_list,\n",
    "    \"price\":price_list\n",
    "})"
   ]
  },
  {
   "cell_type": "code",
   "execution_count": 76,
   "id": "f6585ca7",
   "metadata": {},
   "outputs": [
    {
     "data": {
      "text/plain": [
       "category\n",
       "Beauty             30.6\n",
       "Clothing           52.1\n",
       "Electronics       706.3\n",
       "Home & Kitchen    212.7\n",
       "Name: price, dtype: float64"
      ]
     },
     "execution_count": 76,
     "metadata": {},
     "output_type": "execute_result"
    }
   ],
   "source": [
    "product_added.groupby(\"category\")[\"price\"].mean()"
   ]
  },
  {
   "cell_type": "markdown",
   "id": "cc11b647",
   "metadata": {},
   "source": [
    "#### Nilai rata-rata category sudah cukup sesuai dengan ketentuan di awal. Selanjutnya akan dilakukan generate ratings dengan model linear regression"
   ]
  },
  {
   "cell_type": "code",
   "execution_count": 77,
   "id": "729583cc",
   "metadata": {},
   "outputs": [],
   "source": [
    "price_norm = price_scaler.transform(price_list.reshape(-1,1))\n",
    "ratings = np.round(ratings_scaler.inverse_transform(model_ratings_lr.predict(price_norm)).flatten(),2)"
   ]
  },
  {
   "cell_type": "code",
   "execution_count": 78,
   "id": "1be1f2c0",
   "metadata": {},
   "outputs": [
    {
     "data": {
      "text/plain": [
       "array([4.8 , 4.72, 4.48, 4.69, 4.65, 4.77, 4.79, 4.66, 4.82, 4.79, 3.9 ,\n",
       "       3.94, 3.99, 3.92, 3.94, 3.94, 3.98, 3.91, 3.99, 4.  , 4.06, 4.18,\n",
       "       4.17, 4.08, 4.03, 4.09, 4.17, 4.24, 4.23, 4.15, 3.91, 3.91, 3.91,\n",
       "       3.97, 3.95, 3.93, 3.94, 3.93, 3.91, 3.91])"
      ]
     },
     "execution_count": 78,
     "metadata": {},
     "output_type": "execute_result"
    }
   ],
   "source": [
    "ratings"
   ]
  },
  {
   "cell_type": "code",
   "execution_count": 79,
   "id": "46170748",
   "metadata": {},
   "outputs": [],
   "source": [
    "product_added[\"ratings\"] = ratings"
   ]
  },
  {
   "cell_type": "code",
   "execution_count": 86,
   "id": "289008c4",
   "metadata": {},
   "outputs": [],
   "source": [
    "product_added.insert(0,\"product_id\",np.arange(106,106+len(product_added)))"
   ]
  },
  {
   "cell_type": "code",
   "execution_count": 125,
   "id": "96e13b15",
   "metadata": {},
   "outputs": [],
   "source": [
    "product_update = pd.concat([product,product_added],axis=0,ignore_index=True)"
   ]
  },
  {
   "cell_type": "markdown",
   "id": "1b455acd",
   "metadata": {},
   "source": [
    "### Feature Engineering interactions\n",
    "Disini selanjutnya akan dilakukan feature engineering untuk interactions. Dimana kita akan menambah jumlah user dan akan membuat sebuah model linear regression untuk memprediksi nilai page_views dari time_spent yang akan kita random."
   ]
  },
  {
   "cell_type": "code",
   "execution_count": 94,
   "id": "895b6831",
   "metadata": {},
   "outputs": [],
   "source": [
    "interactions = interactions[interactions[\"customer_id\"]!=3]"
   ]
  },
  {
   "cell_type": "code",
   "execution_count": 95,
   "id": "8d9b14b0",
   "metadata": {},
   "outputs": [],
   "source": [
    "df_train_interactions = interactions.drop(columns=[\"customer_id\"])\n",
    "time_spent_scaler = MinMaxScaler()\n",
    "page_view_scaler = MinMaxScaler()\n",
    "X = time_spent_scaler.fit_transform(df_train_interactions.time_spent.values.reshape(-1,1))\n",
    "y = page_view_scaler.fit_transform(df_train_interactions.page_views.values.reshape(-1,1))"
   ]
  },
  {
   "cell_type": "code",
   "execution_count": 96,
   "id": "14498ff8",
   "metadata": {},
   "outputs": [
    {
     "data": {
      "text/plain": [
       "LinearRegression()"
      ]
     },
     "execution_count": 96,
     "metadata": {},
     "output_type": "execute_result"
    }
   ],
   "source": [
    "from sklearn.linear_model import LinearRegression\n",
    "model_page_lr = LinearRegression()\n",
    "model_page_lr.fit(X,y)"
   ]
  },
  {
   "cell_type": "code",
   "execution_count": 97,
   "id": "5ca9f929",
   "metadata": {},
   "outputs": [
    {
     "data": {
      "image/png": "[encoded data removed]",
      "text/plain": [
       "<Figure size 640x480 with 1 Axes>"
      ]
     },
     "metadata": {},
     "output_type": "display_data"
    }
   ],
   "source": [
    "y_pred = model_page_lr.predict(X)\n",
    "plt.plot(X,y_pred,color=\"red\")\n",
    "plt.scatter(X,y,color=\"blue\")\n",
    "plt.title(\"Regression Plot\")\n",
    "plt.xlabel(\"Normalized time_spent\")\n",
    "plt.ylabel(\"Normalized page_views\")\n",
    "plt.grid()\n",
    "plt.legend([\"Regression Line\",\"Actual Data\"])\n",
    "plt.show()"
   ]
  },
  {
   "cell_type": "markdown",
   "id": "7a22f82a",
   "metadata": {},
   "source": [
    "#### Selanjutnya kita akan buat 100 user baru "
   ]
  },
  {
   "cell_type": "code",
   "execution_count": 98,
   "id": "c7e469ed",
   "metadata": {},
   "outputs": [],
   "source": [
    "consumer_id = np.arange(6,106)"
   ]
  },
  {
   "cell_type": "markdown",
   "id": "9a3c1e54",
   "metadata": {},
   "source": [
    "selanjutnya untuk time_spent kita generate secara random dengan range antara 50 hingga 150"
   ]
  },
  {
   "cell_type": "code",
   "execution_count": 159,
   "id": "4b779639",
   "metadata": {},
   "outputs": [],
   "source": [
    "time_spent = np.random.uniform(90,151,100)"
   ]
  },
  {
   "cell_type": "code",
   "execution_count": 160,
   "id": "93b7333f",
   "metadata": {},
   "outputs": [],
   "source": [
    "time_spent = time_spent.astype(int)"
   ]
  },
  {
   "cell_type": "code",
   "execution_count": 161,
   "id": "83c4f77b",
   "metadata": {},
   "outputs": [],
   "source": [
    "time_spent_norm = time_spent_scaler.transform(time_spent.reshape(-1,1))\n",
    "page_view_norm = model_page_lr.predict(time_spent_norm)\n",
    "page_view = page_view_scaler.inverse_transform(page_view_norm).astype(int).flatten()"
   ]
  },
  {
   "cell_type": "code",
   "execution_count": 162,
   "id": "82fb82f4",
   "metadata": {},
   "outputs": [],
   "source": [
    "interactions_added = pd.DataFrame({\n",
    "    \"customer_id\": consumer_id,\n",
    "    \"time_spent\":time_spent,\n",
    "    \"page_views\":page_view\n",
    "})"
   ]
  },
  {
   "cell_type": "code",
   "execution_count": 163,
   "id": "62987541",
   "metadata": {},
   "outputs": [
    {
     "data": {
      "text/html": [
       "<div>\n",
       "<style scoped>\n",
       "    .dataframe tbody tr th:only-of-type {\n",
       "        vertical-align: middle;\n",
       "    }\n",
       "\n",
       "    .dataframe tbody tr th {\n",
       "        vertical-align: top;\n",
       "    }\n",
       "\n",
       "    .dataframe thead th {\n",
       "        text-align: right;\n",
       "    }\n",
       "</style>\n",
       "<table border=\"1\" class=\"dataframe\">\n",
       "  <thead>\n",
       "    <tr style=\"text-align: right;\">\n",
       "      <th></th>\n",
       "      <th>customer_id</th>\n",
       "      <th>page_views</th>\n",
       "      <th>time_spent</th>\n",
       "    </tr>\n",
       "  </thead>\n",
       "  <tbody>\n",
       "    <tr>\n",
       "      <th>0</th>\n",
       "      <td>1</td>\n",
       "      <td>25</td>\n",
       "      <td>120</td>\n",
       "    </tr>\n",
       "    <tr>\n",
       "      <th>1</th>\n",
       "      <td>2</td>\n",
       "      <td>20</td>\n",
       "      <td>90</td>\n",
       "    </tr>\n",
       "    <tr>\n",
       "      <th>3</th>\n",
       "      <td>4</td>\n",
       "      <td>15</td>\n",
       "      <td>80</td>\n",
       "    </tr>\n",
       "    <tr>\n",
       "      <th>4</th>\n",
       "      <td>5</td>\n",
       "      <td>22</td>\n",
       "      <td>110</td>\n",
       "    </tr>\n",
       "  </tbody>\n",
       "</table>\n",
       "</div>"
      ],
      "text/plain": [
       "   customer_id  page_views  time_spent\n",
       "0            1          25         120\n",
       "1            2          20          90\n",
       "3            4          15          80\n",
       "4            5          22         110"
      ]
     },
     "execution_count": 163,
     "metadata": {},
     "output_type": "execute_result"
    }
   ],
   "source": [
    "interactions"
   ]
  },
  {
   "cell_type": "code",
   "execution_count": 164,
   "id": "6c5ab443",
   "metadata": {},
   "outputs": [],
   "source": [
    "interactions_updated = pd.concat([interactions,interactions_added],axis=0,ignore_index=True)"
   ]
  },
  {
   "cell_type": "code",
   "execution_count": 165,
   "id": "7ce01148",
   "metadata": {},
   "outputs": [
    {
     "data": {
      "text/html": [
       "<div>\n",
       "<style scoped>\n",
       "    .dataframe tbody tr th:only-of-type {\n",
       "        vertical-align: middle;\n",
       "    }\n",
       "\n",
       "    .dataframe tbody tr th {\n",
       "        vertical-align: top;\n",
       "    }\n",
       "\n",
       "    .dataframe thead th {\n",
       "        text-align: right;\n",
       "    }\n",
       "</style>\n",
       "<table border=\"1\" class=\"dataframe\">\n",
       "  <thead>\n",
       "    <tr style=\"text-align: right;\">\n",
       "      <th></th>\n",
       "      <th>customer_id</th>\n",
       "      <th>page_views</th>\n",
       "      <th>time_spent</th>\n",
       "    </tr>\n",
       "  </thead>\n",
       "  <tbody>\n",
       "    <tr>\n",
       "      <th>0</th>\n",
       "      <td>1</td>\n",
       "      <td>25</td>\n",
       "      <td>120</td>\n",
       "    </tr>\n",
       "    <tr>\n",
       "      <th>1</th>\n",
       "      <td>2</td>\n",
       "      <td>20</td>\n",
       "      <td>90</td>\n",
       "    </tr>\n",
       "    <tr>\n",
       "      <th>2</th>\n",
       "      <td>4</td>\n",
       "      <td>15</td>\n",
       "      <td>80</td>\n",
       "    </tr>\n",
       "    <tr>\n",
       "      <th>3</th>\n",
       "      <td>5</td>\n",
       "      <td>22</td>\n",
       "      <td>110</td>\n",
       "    </tr>\n",
       "    <tr>\n",
       "      <th>4</th>\n",
       "      <td>6</td>\n",
       "      <td>22</td>\n",
       "      <td>111</td>\n",
       "    </tr>\n",
       "    <tr>\n",
       "      <th>...</th>\n",
       "      <td>...</td>\n",
       "      <td>...</td>\n",
       "      <td>...</td>\n",
       "    </tr>\n",
       "    <tr>\n",
       "      <th>99</th>\n",
       "      <td>101</td>\n",
       "      <td>23</td>\n",
       "      <td>112</td>\n",
       "    </tr>\n",
       "    <tr>\n",
       "      <th>100</th>\n",
       "      <td>102</td>\n",
       "      <td>30</td>\n",
       "      <td>144</td>\n",
       "    </tr>\n",
       "    <tr>\n",
       "      <th>101</th>\n",
       "      <td>103</td>\n",
       "      <td>19</td>\n",
       "      <td>96</td>\n",
       "    </tr>\n",
       "    <tr>\n",
       "      <th>102</th>\n",
       "      <td>104</td>\n",
       "      <td>23</td>\n",
       "      <td>115</td>\n",
       "    </tr>\n",
       "    <tr>\n",
       "      <th>103</th>\n",
       "      <td>105</td>\n",
       "      <td>22</td>\n",
       "      <td>109</td>\n",
       "    </tr>\n",
       "  </tbody>\n",
       "</table>\n",
       "<p>104 rows × 3 columns</p>\n",
       "</div>"
      ],
      "text/plain": [
       "     customer_id  page_views  time_spent\n",
       "0              1          25         120\n",
       "1              2          20          90\n",
       "2              4          15          80\n",
       "3              5          22         110\n",
       "4              6          22         111\n",
       "..           ...         ...         ...\n",
       "99           101          23         112\n",
       "100          102          30         144\n",
       "101          103          19          96\n",
       "102          104          23         115\n",
       "103          105          22         109\n",
       "\n",
       "[104 rows x 3 columns]"
      ]
     },
     "execution_count": 165,
     "metadata": {},
     "output_type": "execute_result"
    }
   ],
   "source": [
    "interactions_updated"
   ]
  },
  {
   "cell_type": "markdown",
   "id": "e730e8fc",
   "metadata": {},
   "source": [
    "### Membuat model linear regresi untuk mengenerate purchase data\n",
    "Sebelumnya kita ketahui bahwa pada dataframe interactions product correlation antara time_spent dan average_ratings tinggi, selain itu korelasi antara time_spent dengan total_spent juga tinggi. Kita akan buat model linear regresi yang akan kita gunakan untuk mengenerate total_spent dari time_spent"
   ]
  },
  {
   "cell_type": "code",
   "execution_count": 126,
   "id": "65416e06",
   "metadata": {},
   "outputs": [
    {
     "data": {
      "text/html": [
       "<div>\n",
       "<style scoped>\n",
       "    .dataframe tbody tr th:only-of-type {\n",
       "        vertical-align: middle;\n",
       "    }\n",
       "\n",
       "    .dataframe tbody tr th {\n",
       "        vertical-align: top;\n",
       "    }\n",
       "\n",
       "    .dataframe thead th {\n",
       "        text-align: right;\n",
       "    }\n",
       "</style>\n",
       "<table border=\"1\" class=\"dataframe\">\n",
       "  <thead>\n",
       "    <tr style=\"text-align: right;\">\n",
       "      <th></th>\n",
       "      <th>customer_id</th>\n",
       "      <th>page_views</th>\n",
       "      <th>time_spent</th>\n",
       "      <th>average_ratings</th>\n",
       "      <th>total_spent</th>\n",
       "    </tr>\n",
       "  </thead>\n",
       "  <tbody>\n",
       "    <tr>\n",
       "      <th>customer_id</th>\n",
       "      <td>1.000000</td>\n",
       "      <td>-0.477809</td>\n",
       "      <td>-0.300000</td>\n",
       "      <td>-0.045320</td>\n",
       "      <td>-0.497626</td>\n",
       "    </tr>\n",
       "    <tr>\n",
       "      <th>page_views</th>\n",
       "      <td>-0.477809</td>\n",
       "      <td>1.000000</td>\n",
       "      <td>0.955619</td>\n",
       "      <td>0.743139</td>\n",
       "      <td>0.855280</td>\n",
       "    </tr>\n",
       "    <tr>\n",
       "      <th>time_spent</th>\n",
       "      <td>-0.300000</td>\n",
       "      <td>0.955619</td>\n",
       "      <td>1.000000</td>\n",
       "      <td>0.906403</td>\n",
       "      <td>0.918458</td>\n",
       "    </tr>\n",
       "    <tr>\n",
       "      <th>average_ratings</th>\n",
       "      <td>-0.045320</td>\n",
       "      <td>0.743139</td>\n",
       "      <td>0.906403</td>\n",
       "      <td>1.000000</td>\n",
       "      <td>0.888874</td>\n",
       "    </tr>\n",
       "    <tr>\n",
       "      <th>total_spent</th>\n",
       "      <td>-0.497626</td>\n",
       "      <td>0.855280</td>\n",
       "      <td>0.918458</td>\n",
       "      <td>0.888874</td>\n",
       "      <td>1.000000</td>\n",
       "    </tr>\n",
       "  </tbody>\n",
       "</table>\n",
       "</div>"
      ],
      "text/plain": [
       "                 customer_id  page_views  time_spent  average_ratings  \\\n",
       "customer_id         1.000000   -0.477809   -0.300000        -0.045320   \n",
       "page_views         -0.477809    1.000000    0.955619         0.743139   \n",
       "time_spent         -0.300000    0.955619    1.000000         0.906403   \n",
       "average_ratings    -0.045320    0.743139    0.906403         1.000000   \n",
       "total_spent        -0.497626    0.855280    0.918458         0.888874   \n",
       "\n",
       "                 total_spent  \n",
       "customer_id        -0.497626  \n",
       "page_views          0.855280  \n",
       "time_spent          0.918458  \n",
       "average_ratings     0.888874  \n",
       "total_spent         1.000000  "
      ]
     },
     "execution_count": 126,
     "metadata": {},
     "output_type": "execute_result"
    }
   ],
   "source": [
    "interations_product_deleted.corr()"
   ]
  },
  {
   "cell_type": "code",
   "execution_count": 127,
   "id": "0577605f",
   "metadata": {},
   "outputs": [],
   "source": [
    "purchase_time_spent_scaler = MinMaxScaler()\n",
    "purchase_total_spent_scaler = MinMaxScaler()"
   ]
  },
  {
   "cell_type": "code",
   "execution_count": 128,
   "id": "a1c4f43f",
   "metadata": {},
   "outputs": [
    {
     "data": {
      "text/plain": [
       "LinearRegression()"
      ]
     },
     "execution_count": 128,
     "metadata": {},
     "output_type": "execute_result"
    }
   ],
   "source": [
    "X = purchase_time_spent_scaler.fit_transform(interations_product_deleted.time_spent.values.reshape(-1,1))\n",
    "y = purchase_total_spent_scaler.fit_transform(interations_product_deleted.total_spent.values.reshape(-1,1))\n",
    "model_purchase_lr = LinearRegression()\n",
    "model_purchase_lr.fit(X,y)"
   ]
  },
  {
   "cell_type": "code",
   "execution_count": 130,
   "id": "827d556e",
   "metadata": {},
   "outputs": [
    {
     "data": {
      "image/png": "[encoded data removed]",
      "text/plain": [
       "<Figure size 640x480 with 1 Axes>"
      ]
     },
     "metadata": {},
     "output_type": "display_data"
    }
   ],
   "source": [
    "y_pred = model_purchase_lr.predict(X)\n",
    "plt.plot(X,y_pred,color=\"red\")\n",
    "plt.scatter(X,y,color=\"blue\")\n",
    "plt.title(\"Regression Plot\")\n",
    "plt.xlabel(\"Normalized time_spent\")\n",
    "plt.ylabel(\"Normalized total_spent\")\n",
    "plt.grid()\n",
    "plt.legend([\"Regression Line\",\"Actual Data\"])\n",
    "plt.show()"
   ]
  },
  {
   "cell_type": "markdown",
   "id": "78305e2f",
   "metadata": {},
   "source": [
    "#### Selanjutnya kita akan menggunakan model ini untuk mengenerate dataset beberapa beberapa dataset pada purchase. Kita akan mencari total spent berdasarkan time_spent, yang kemudian kita akan buat sebuah metode untuk mencari sejumlah barang dengan jumlah barang tertentu dan total harga barang yang terprediksi oleh model ini. Kita akan hapus purchase date, karena kita tidak akan menganalisa time series. Selain itu kita akan hapus record customer_id = 3"
   ]
  },
  {
   "cell_type": "code",
   "execution_count": 132,
   "id": "592ad217",
   "metadata": {},
   "outputs": [],
   "source": [
    "purchase.drop(columns=[\"purchase_date\"],inplace=True)\n",
    "purchase = purchase[purchase[\"customer_id\"]!=3]"
   ]
  },
  {
   "cell_type": "code",
   "execution_count": 133,
   "id": "e6373910",
   "metadata": {},
   "outputs": [
    {
     "data": {
      "text/html": [
       "<div>\n",
       "<style scoped>\n",
       "    .dataframe tbody tr th:only-of-type {\n",
       "        vertical-align: middle;\n",
       "    }\n",
       "\n",
       "    .dataframe tbody tr th {\n",
       "        vertical-align: top;\n",
       "    }\n",
       "\n",
       "    .dataframe thead th {\n",
       "        text-align: right;\n",
       "    }\n",
       "</style>\n",
       "<table border=\"1\" class=\"dataframe\">\n",
       "  <thead>\n",
       "    <tr style=\"text-align: right;\">\n",
       "      <th></th>\n",
       "      <th>customer_id</th>\n",
       "      <th>product_id</th>\n",
       "    </tr>\n",
       "  </thead>\n",
       "  <tbody>\n",
       "    <tr>\n",
       "      <th>0</th>\n",
       "      <td>1</td>\n",
       "      <td>101</td>\n",
       "    </tr>\n",
       "    <tr>\n",
       "      <th>1</th>\n",
       "      <td>1</td>\n",
       "      <td>105</td>\n",
       "    </tr>\n",
       "    <tr>\n",
       "      <th>2</th>\n",
       "      <td>2</td>\n",
       "      <td>102</td>\n",
       "    </tr>\n",
       "    <tr>\n",
       "      <th>4</th>\n",
       "      <td>4</td>\n",
       "      <td>104</td>\n",
       "    </tr>\n",
       "    <tr>\n",
       "      <th>5</th>\n",
       "      <td>5</td>\n",
       "      <td>101</td>\n",
       "    </tr>\n",
       "  </tbody>\n",
       "</table>\n",
       "</div>"
      ],
      "text/plain": [
       "   customer_id  product_id\n",
       "0            1         101\n",
       "1            1         105\n",
       "2            2         102\n",
       "4            4         104\n",
       "5            5         101"
      ]
     },
     "execution_count": 133,
     "metadata": {},
     "output_type": "execute_result"
    }
   ],
   "source": [
    "purchase"
   ]
  },
  {
   "cell_type": "code",
   "execution_count": 135,
   "id": "2eb2c05e",
   "metadata": {},
   "outputs": [],
   "source": [
    "product_update.to_csv(\"new.csv\",index=False)"
   ]
  },
  {
   "cell_type": "markdown",
   "id": "4caaaaf8",
   "metadata": {},
   "source": [
    "#### Kita akan buat fungsi untuk membuat pemilihan N product secara acak pada total harga T dan terdistribusi secara merata. Kita akan coba gunakan metode sederhana untuk menyelesaikan ini, sebenarnya permasalahan ini mirip seperti knapsack problem. Namun karena Terra Store akan pitching setelah makan siang, jadi mari kita coba pendekatan lainnya"
   ]
  },
  {
   "cell_type": "code",
   "execution_count": 184,
   "id": "520fc1cd",
   "metadata": {},
   "outputs": [],
   "source": [
    "def find_evenly_distributed_products_fixed(data:pd.DataFrame, n:int, total_price:int)->pd.DataFrame:\n",
    "    average_price_per_item = total_price / n\n",
    "    sorted_data = data.iloc[(data['price'] - average_price_per_item).abs().argsort()]\n",
    "    selected_products = []\n",
    "    current_total_price = 0\n",
    "    \n",
    "    for _, row in sorted_data.iterrows():\n",
    "        if len(selected_products) < n and current_total_price + row['price'] <= total_price:\n",
    "            selected_products.append(row)\n",
    "            current_total_price += row['price']\n",
    "            remaining_items = n - len(selected_products)\n",
    "            if remaining_items > 0:\n",
    "                average_price_per_item = (total_price - current_total_price) / remaining_items    \n",
    "    return pd.DataFrame(selected_products) \n",
    "\n"
   ]
  },
  {
   "cell_type": "code",
   "execution_count": 185,
   "id": "edee3a86",
   "metadata": {},
   "outputs": [],
   "source": [
    "def generate_purchase(interactions:pd.DataFrame,product:pd.DataFrame)->pd.DataFrame:\n",
    "    start_id = 6\n",
    "    stop_id = 106\n",
    "    customer_id = np.arange(start_id,stop_id)\n",
    "    df_temp = interactions[interactions[\"customer_id\"].isin(customer_id)]\n",
    "    time_spent = df_temp[\"time_spent\"].values\n",
    "    time_spent_norm = purchase_time_spent_scaler.transform(time_spent.reshape(-1,1))\n",
    "    total_spent_est = purchase_total_spent_scaler.inverse_transform(model_purchase_lr.predict(time_spent_norm)).flatten().astype(int)\n",
    "    total_item = np.random.randint(2,9,size=100)\n",
    "    df_list = []\n",
    "    for total,n in zip(total_spent_est,total_item):\n",
    "        product_list = find_evenly_distributed_products_fixed(product,n,total)\n",
    "        df_list.append(product_list)\n",
    "    df_list_selected = pd.concat(df_list,axis=0)\n",
    "    customer_id_list = np.repeat(customer_id,total_item)\n",
    "    purchase_df =pd.DataFrame({\n",
    "        \"customer_id\":customer_id_list,\n",
    "        \"product_id\": df_list_selected.product_id.values\n",
    "    })\n",
    "    return purchase_df\n",
    "        \n",
    "        \n",
    "    \n",
    "                                                           \n",
    "    \n",
    "        "
   ]
  },
  {
   "cell_type": "code",
   "execution_count": 186,
   "id": "1016799f",
   "metadata": {},
   "outputs": [],
   "source": [
    "purchase_added = generate_purchase(interactions_updated,product_update)"
   ]
  },
  {
   "cell_type": "code",
   "execution_count": 192,
   "id": "6f0d4fc5",
   "metadata": {},
   "outputs": [],
   "source": [
    "purchase_update = pd.concat([purchase,purchase_added],axis=0,ignore_index=True)"
   ]
  },
  {
   "cell_type": "code",
   "execution_count": 195,
   "id": "4d4c0c5a",
   "metadata": {},
   "outputs": [
    {
     "data": {
      "text/html": [
       "<div>\n",
       "<style scoped>\n",
       "    .dataframe tbody tr th:only-of-type {\n",
       "        vertical-align: middle;\n",
       "    }\n",
       "\n",
       "    .dataframe tbody tr th {\n",
       "        vertical-align: top;\n",
       "    }\n",
       "\n",
       "    .dataframe thead th {\n",
       "        text-align: right;\n",
       "    }\n",
       "</style>\n",
       "<table border=\"1\" class=\"dataframe\">\n",
       "  <thead>\n",
       "    <tr style=\"text-align: right;\">\n",
       "      <th></th>\n",
       "      <th>customer_id</th>\n",
       "      <th>product_id</th>\n",
       "    </tr>\n",
       "  </thead>\n",
       "  <tbody>\n",
       "    <tr>\n",
       "      <th>0</th>\n",
       "      <td>1</td>\n",
       "      <td>101</td>\n",
       "    </tr>\n",
       "    <tr>\n",
       "      <th>1</th>\n",
       "      <td>1</td>\n",
       "      <td>105</td>\n",
       "    </tr>\n",
       "    <tr>\n",
       "      <th>2</th>\n",
       "      <td>2</td>\n",
       "      <td>102</td>\n",
       "    </tr>\n",
       "    <tr>\n",
       "      <th>3</th>\n",
       "      <td>4</td>\n",
       "      <td>104</td>\n",
       "    </tr>\n",
       "    <tr>\n",
       "      <th>4</th>\n",
       "      <td>5</td>\n",
       "      <td>101</td>\n",
       "    </tr>\n",
       "    <tr>\n",
       "      <th>...</th>\n",
       "      <td>...</td>\n",
       "      <td>...</td>\n",
       "    </tr>\n",
       "    <tr>\n",
       "      <th>531</th>\n",
       "      <td>105</td>\n",
       "      <td>122</td>\n",
       "    </tr>\n",
       "    <tr>\n",
       "      <th>532</th>\n",
       "      <td>105</td>\n",
       "      <td>139</td>\n",
       "    </tr>\n",
       "    <tr>\n",
       "      <th>533</th>\n",
       "      <td>105</td>\n",
       "      <td>130</td>\n",
       "    </tr>\n",
       "    <tr>\n",
       "      <th>534</th>\n",
       "      <td>105</td>\n",
       "      <td>102</td>\n",
       "    </tr>\n",
       "    <tr>\n",
       "      <th>535</th>\n",
       "      <td>105</td>\n",
       "      <td>140</td>\n",
       "    </tr>\n",
       "  </tbody>\n",
       "</table>\n",
       "<p>536 rows × 2 columns</p>\n",
       "</div>"
      ],
      "text/plain": [
       "     customer_id  product_id\n",
       "0              1         101\n",
       "1              1         105\n",
       "2              2         102\n",
       "3              4         104\n",
       "4              5         101\n",
       "..           ...         ...\n",
       "531          105         122\n",
       "532          105         139\n",
       "533          105         130\n",
       "534          105         102\n",
       "535          105         140\n",
       "\n",
       "[536 rows x 2 columns]"
      ]
     },
     "execution_count": 195,
     "metadata": {},
     "output_type": "execute_result"
    }
   ],
   "source": [
    "purchase_update"
   ]
  },
  {
   "cell_type": "markdown",
   "id": "d9cfef3e",
   "metadata": {},
   "source": [
    "#### kita sudah buat purchase update, selanjutnya kita akan melakukan feature engineering lanjut pada data ini. Sebelumnya diketahui bahwa setiap produk memiliki rating, disini kita akan buat sistem rating pribadi pada setiap produk yang dibeli oleh user. Biasanya rating pada sebuah produk adalah rata-rata rating yang diterima oleh produk tersebut dari semua user. Dengan pertimbangan hal tersebut kita akan membuat sebuah metode untuk menentukan sebuah rating yang diberikan oleh user terhadap suatu produk. Disini kita akan gunakan pembobotan berdasarkan time_spent sebagai pembobotan. Hal ini dikarenakan kita tahu bahwa time_spent memiliki korelasi yang tinggi pada price dan price memiliki korelasi yang tinggi pada ratings. Dengan demikian kita akan buat pembobotan berdasarkan time_spent. Disini kita asumsikan bahwa user yang ada pada dataset saat ini adalah hanya sebagian user yang dimiliki oleh sistem"
   ]
  },
  {
   "cell_type": "code",
   "execution_count": 206,
   "id": "ed896dc1",
   "metadata": {},
   "outputs": [],
   "source": [
    "def round_to_half(number:np.ndarray)->np.ndarray:\n",
    "    return np.round(number * 2) / 2\n",
    "\n",
    "def user_ratings(product:pd.DataFrame,purchase:pd.DataFrame,interactions:pd.DataFrame)->pd.DataFrame:\n",
    "    product_id = product[\"product_id\"].unique()\n",
    "    list_df = []\n",
    "    for p in product_id:\n",
    "        temp_df = purchase[purchase[\"product_id\"]==p]\n",
    "        temp_df = pd.merge(temp_df,interactions,on=\"customer_id\")\n",
    "        ratings = product[product[\"product_id\"]==p][\"ratings\"].values[0]\n",
    "        user_weight = temp_df[\"time_spent\"].values\n",
    "        total_weight=user_weight.sum()\n",
    "        total_user = len(temp_df)\n",
    "        total_ratings = ratings*total_user\n",
    "        user_value = [(weight/total_weight)*total_ratings for weight in user_weight]\n",
    "        clipped_value = np.clip(user_value,0,5)\n",
    "        round_value = round_to_half(clipped_value)\n",
    "        temp_df[\"user_ratings\"]=round_value\n",
    "        list_df.append(temp_df)\n",
    "    result = pd.concat(list_df,axis=0)\n",
    "    return result"
   ]
  },
  {
   "cell_type": "code",
   "execution_count": 207,
   "id": "2de4cd5d",
   "metadata": {},
   "outputs": [],
   "source": [
    "new_purchase = user_ratings(product_update,purchase_update,interactions_updated)"
   ]
  },
  {
   "cell_type": "code",
   "execution_count": 208,
   "id": "1308939b",
   "metadata": {},
   "outputs": [
    {
     "data": {
      "text/html": [
       "<div>\n",
       "<style scoped>\n",
       "    .dataframe tbody tr th:only-of-type {\n",
       "        vertical-align: middle;\n",
       "    }\n",
       "\n",
       "    .dataframe tbody tr th {\n",
       "        vertical-align: top;\n",
       "    }\n",
       "\n",
       "    .dataframe thead th {\n",
       "        text-align: right;\n",
       "    }\n",
       "</style>\n",
       "<table border=\"1\" class=\"dataframe\">\n",
       "  <thead>\n",
       "    <tr style=\"text-align: right;\">\n",
       "      <th></th>\n",
       "      <th>customer_id</th>\n",
       "      <th>product_id</th>\n",
       "      <th>page_views</th>\n",
       "      <th>time_spent</th>\n",
       "      <th>user_ratings</th>\n",
       "    </tr>\n",
       "  </thead>\n",
       "  <tbody>\n",
       "    <tr>\n",
       "      <th>0</th>\n",
       "      <td>1</td>\n",
       "      <td>101</td>\n",
       "      <td>25</td>\n",
       "      <td>120</td>\n",
       "      <td>4.5</td>\n",
       "    </tr>\n",
       "    <tr>\n",
       "      <th>1</th>\n",
       "      <td>5</td>\n",
       "      <td>101</td>\n",
       "      <td>22</td>\n",
       "      <td>110</td>\n",
       "      <td>4.0</td>\n",
       "    </tr>\n",
       "    <tr>\n",
       "      <th>2</th>\n",
       "      <td>8</td>\n",
       "      <td>101</td>\n",
       "      <td>25</td>\n",
       "      <td>124</td>\n",
       "      <td>4.5</td>\n",
       "    </tr>\n",
       "    <tr>\n",
       "      <th>3</th>\n",
       "      <td>16</td>\n",
       "      <td>101</td>\n",
       "      <td>31</td>\n",
       "      <td>150</td>\n",
       "      <td>5.0</td>\n",
       "    </tr>\n",
       "    <tr>\n",
       "      <th>4</th>\n",
       "      <td>21</td>\n",
       "      <td>101</td>\n",
       "      <td>25</td>\n",
       "      <td>122</td>\n",
       "      <td>4.5</td>\n",
       "    </tr>\n",
       "    <tr>\n",
       "      <th>...</th>\n",
       "      <td>...</td>\n",
       "      <td>...</td>\n",
       "      <td>...</td>\n",
       "      <td>...</td>\n",
       "      <td>...</td>\n",
       "    </tr>\n",
       "    <tr>\n",
       "      <th>3</th>\n",
       "      <td>64</td>\n",
       "      <td>143</td>\n",
       "      <td>20</td>\n",
       "      <td>99</td>\n",
       "      <td>4.0</td>\n",
       "    </tr>\n",
       "    <tr>\n",
       "      <th>4</th>\n",
       "      <td>79</td>\n",
       "      <td>143</td>\n",
       "      <td>18</td>\n",
       "      <td>90</td>\n",
       "      <td>4.0</td>\n",
       "    </tr>\n",
       "    <tr>\n",
       "      <th>5</th>\n",
       "      <td>90</td>\n",
       "      <td>143</td>\n",
       "      <td>18</td>\n",
       "      <td>90</td>\n",
       "      <td>4.0</td>\n",
       "    </tr>\n",
       "    <tr>\n",
       "      <th>0</th>\n",
       "      <td>79</td>\n",
       "      <td>144</td>\n",
       "      <td>18</td>\n",
       "      <td>90</td>\n",
       "      <td>4.0</td>\n",
       "    </tr>\n",
       "    <tr>\n",
       "      <th>0</th>\n",
       "      <td>79</td>\n",
       "      <td>145</td>\n",
       "      <td>18</td>\n",
       "      <td>90</td>\n",
       "      <td>4.0</td>\n",
       "    </tr>\n",
       "  </tbody>\n",
       "</table>\n",
       "<p>536 rows × 5 columns</p>\n",
       "</div>"
      ],
      "text/plain": [
       "    customer_id  product_id  page_views  time_spent  user_ratings\n",
       "0             1         101          25         120           4.5\n",
       "1             5         101          22         110           4.0\n",
       "2             8         101          25         124           4.5\n",
       "3            16         101          31         150           5.0\n",
       "4            21         101          25         122           4.5\n",
       "..          ...         ...         ...         ...           ...\n",
       "3            64         143          20          99           4.0\n",
       "4            79         143          18          90           4.0\n",
       "5            90         143          18          90           4.0\n",
       "0            79         144          18          90           4.0\n",
       "0            79         145          18          90           4.0\n",
       "\n",
       "[536 rows x 5 columns]"
      ]
     },
     "execution_count": 208,
     "metadata": {},
     "output_type": "execute_result"
    }
   ],
   "source": [
    "new_purchase"
   ]
  },
  {
   "cell_type": "markdown",
   "id": "5441664c",
   "metadata": {},
   "source": [
    "### SVD untuk Recommendation System\n",
    "Selanjutnya kita akan membuat sebuah sistem kolaborasi filtering dengan menggunakan SVD. Singular Value Decomposition (SVD) adalah teknik faktorisasi matriks yang sangat penting dan serbaguna dalam aljabar linier, dan digunakan secara luas dalam berbagai aplikasi termasuk sistem rekomendasi. Dalam konteks sistem ini, SVD membantu dalam mengekstraksi dan mengidentifikasi fitur laten dari dataset rating customer terhadap product, yang kemudian dapat digunakan untuk memprediksi rating yang belum diketahui dan menghasilkan rekomendasi."
   ]
  },
  {
   "cell_type": "code",
   "execution_count": 209,
   "id": "46c4d5b7",
   "metadata": {},
   "outputs": [],
   "source": [
    "import surprise\n",
    "from surprise import SVD\n",
    "from surprise import accuracy\n",
    "from surprise.model_selection import train_test_split\n",
    "from surprise import Reader, Dataset"
   ]
  },
  {
   "cell_type": "markdown",
   "id": "cce5a595",
   "metadata": {},
   "source": [
    "#### Disini data yang akan kita gunakan adalah customer id, product id dan user ratings. Kita tidak akan menggunakan data lainnya. Hal ini cukup memungkinkan mengingat data yang digunakan sekarang merupakan data hasil analisa dan korelasi beberapa fitur, sehingga bisa dikatakan bahwa data saat ini cukup untuk merepresentasikan seluruh data yang ada"
   ]
  },
  {
   "cell_type": "code",
   "execution_count": 210,
   "id": "e3bb4fef",
   "metadata": {},
   "outputs": [],
   "source": [
    "reader = Reader()\n",
    "data = Dataset.load_from_df(new_purchase[['customer_id','product_id','user_ratings']], reader)"
   ]
  },
  {
   "cell_type": "markdown",
   "id": "71ca0530",
   "metadata": {},
   "source": [
    "#### kita akan split testset sebanyak 20% dari total data"
   ]
  },
  {
   "cell_type": "code",
   "execution_count": 212,
   "id": "19815f13",
   "metadata": {},
   "outputs": [],
   "source": [
    "trainset, testset = train_test_split(data, test_size=0.20, random_state=50)"
   ]
  },
  {
   "cell_type": "code",
   "execution_count": 213,
   "id": "b33f5546",
   "metadata": {},
   "outputs": [],
   "source": [
    "algo_svd = SVD()\n",
    "prediction_mf = algo_svd.fit(trainset).test(testset)"
   ]
  },
  {
   "cell_type": "markdown",
   "id": "313a0904",
   "metadata": {},
   "source": [
    "#### selanjutnya kita akan evaluasi nilai prediction_mf yang merupakan prediction rating dengan menggunakan MAE dan RMSE. MAE dan RMSE digunakan untuk melihat error ratings terhadap data aslinya. MAE merupakan nilai absolut sedangkan RMSE nilai ternormalisasi"
   ]
  },
  {
   "cell_type": "code",
   "execution_count": 215,
   "id": "ba09081b",
   "metadata": {},
   "outputs": [
    {
     "name": "stdout",
     "output_type": "stream",
     "text": [
      "MAE:  0.2816\n",
      "RMSE: 0.3589\n"
     ]
    },
    {
     "data": {
      "text/plain": [
       "0.3589385409317479"
      ]
     },
     "execution_count": 215,
     "metadata": {},
     "output_type": "execute_result"
    }
   ],
   "source": [
    "accuracy.mae(prediction_mf)\n",
    "accuracy.rmse(prediction_mf)"
   ]
  },
  {
   "cell_type": "markdown",
   "id": "817dd884",
   "metadata": {},
   "source": [
    "#### Nilai MAE dan RMSE yang kita dapatkan cukup kecil, sehingga kita dapat menggunakan model ini untuk memprediksi barang-barang apa saja yang bisa direkomendasikan ke user selanjutnya dan juga bisa juga digunakan untuk memprediksi barang apa saja yang akan dibeli oleh user selanjutnya"
   ]
  },
  {
   "cell_type": "markdown",
   "id": "1b641e0c",
   "metadata": {},
   "source": [
    "#### Kita akan test model ini untuk mendapatkan n-id product yang akan dibeli oleh user/yang akan kita rekomendasikan ke user. kita gunakan program get_top_n default dari library surprise"
   ]
  },
  {
   "cell_type": "code",
   "execution_count": 216,
   "id": "e596ceac",
   "metadata": {},
   "outputs": [],
   "source": [
    "from collections import defaultdict\n",
    "def get_top_n(predictions, n=10):\n",
    "    \"\"\"Return the top-N recommendation for each user from a set of predictions.\n",
    "\n",
    "    Args:\n",
    "        predictions(list of Prediction objects): The list of predictions, as\n",
    "            returned by the test method of an algorithm.\n",
    "        n(int): The number of recommendation to output for each user. Default\n",
    "            is 10.\n",
    "\n",
    "    Returns:\n",
    "    A dict where keys are user (raw) ids and values are lists of tuples:\n",
    "        [(raw item id, rating estimation), ...] of size n.\n",
    "    \"\"\"\n",
    "\n",
    "    # First map the predictions to each user.\n",
    "    top_n = defaultdict(list)\n",
    "    for uid, iid, true_r, est, _ in predictions:\n",
    "        top_n[uid].append((iid, est))\n",
    "\n",
    "    # Then sort the predictions for each user and retrieve the k highest ones.\n",
    "    for uid, user_ratings in top_n.items():\n",
    "        user_ratings.sort(key=lambda x: x[1], reverse=True)\n",
    "        top_n[uid] = user_ratings[:n]\n",
    "\n",
    "    return top_n"
   ]
  },
  {
   "cell_type": "code",
   "execution_count": 217,
   "id": "6c368aac",
   "metadata": {},
   "outputs": [],
   "source": [
    "predictions = algo_svd.test(testset)\n",
    "top_n = get_top_n(predictions, n=5)\n"
   ]
  },
  {
   "cell_type": "code",
   "execution_count": 218,
   "id": "870b6385",
   "metadata": {},
   "outputs": [
    {
     "data": {
      "text/plain": [
       "defaultdict(list,\n",
       "            {41: [(124, 4.148355750731253), (122, 3.922691209766551)],\n",
       "             8: [(133, 3.996588856890319)],\n",
       "             95: [(128, 4.156071195277627), (132, 4.048670653090994)],\n",
       "             36: [(135, 4.243679641783151)],\n",
       "             47: [(118, 4.0033958858384615), (129, 3.9880777813344266)],\n",
       "             7: [(103, 4.131607514191155), (130, 3.8983177047155664)],\n",
       "             99: [(128, 4.185320474606005), (132, 4.068330301306836)],\n",
       "             83: [(124, 3.8961659597960283), (139, 3.7749351681407814)],\n",
       "             38: [(134, 4.208542909210731)],\n",
       "             82: [(103, 4.190723202478196),\n",
       "              (130, 4.130866431916892),\n",
       "              (128, 4.1296098183565455)],\n",
       "             31: [(131, 3.8137681700534016)],\n",
       "             26: [(133, 4.139694674700726)],\n",
       "             68: [(126, 4.251105901578161)],\n",
       "             81: [(134, 4.3247276311231255), (128, 4.1562171353064326)],\n",
       "             45: [(135, 4.074585161052829)],\n",
       "             84: [(130, 3.979640404692645)],\n",
       "             21: [(101, 4.340707728920966), (108, 4.294283449535076)],\n",
       "             74: [(110, 4.302867730038037)],\n",
       "             61: [(126, 4.027698052510416), (129, 3.990098412562616)],\n",
       "             28: [(129, 4.040736699353603)],\n",
       "             65: [(135, 4.268100441718946)],\n",
       "             75: [(118, 4.153521841956745), (130, 3.9134787518544445)],\n",
       "             6: [(118, 4.162330653335236), (130, 3.9731671800792427)],\n",
       "             10: [(128, 4.170719296595805)],\n",
       "             56: [(104, 4.109682315489163), (117, 4.097926711385941)],\n",
       "             88: [(125, 4.031815482670911), (126, 3.922346423932482)],\n",
       "             66: [(103, 4.437953792972638), (128, 4.337387534965344)],\n",
       "             50: [(128, 4.338580549246742), (126, 4.234511529358804)],\n",
       "             93: [(128, 4.1069992108429245)],\n",
       "             87: [(130, 3.980499169841063), (126, 3.844713550770442)],\n",
       "             37: [(118, 4.133200144142071),\n",
       "              (125, 3.8266569537553354),\n",
       "              (139, 3.8182271446320195)],\n",
       "             55: [(133, 4.31124473173446)],\n",
       "             59: [(129, 4.173696231735313)],\n",
       "             14: [(128, 4.139834533775847)],\n",
       "             43: [(125, 3.997260422522264)],\n",
       "             11: [(132, 4.137386574718199)],\n",
       "             27: [(129, 3.9562922957420277), (126, 3.934646902436518)],\n",
       "             62: [(127, 4.176612597998628),\n",
       "              (131, 4.125252351232886),\n",
       "              (103, 4.096112123156868)],\n",
       "             69: [(129, 4.042170329263889)],\n",
       "             71: [(132, 4.145702362410368)],\n",
       "             60: [(125, 4.128726416957901), (122, 3.7493250266440623)],\n",
       "             100: [(117, 4.055417027167695), (120, 4.030448983748071)],\n",
       "             30: [(103, 4.572959729543811)],\n",
       "             98: [(125, 3.954983519933898)],\n",
       "             44: [(132, 4.2266661473497145)],\n",
       "             90: [(123, 4.175421370476692), (104, 3.8345701893888533)],\n",
       "             96: [(124, 3.9019243503625853), (122, 3.7726514459477674)],\n",
       "             51: [(117, 4.295166028165527),\n",
       "              (140, 4.186351590140919),\n",
       "              (121, 4.005469370661069)],\n",
       "             49: [(142, 3.9743311907447514)],\n",
       "             94: [(117, 4.106153773214613),\n",
       "              (140, 3.981286277980307),\n",
       "              (121, 3.8537292813525),\n",
       "              (141, 3.849059780313919)],\n",
       "             24: [(122, 3.9916605782051895)],\n",
       "             1: [(101, 4.338149826726516)],\n",
       "             89: [(133, 4.5060847835671085), (127, 4.318977046833565)],\n",
       "             18: [(128, 4.198732998725979)],\n",
       "             9: [(130, 4.131002727341155), (135, 4.100205841220674)],\n",
       "             79: [(145, 4.082195732078576)],\n",
       "             105: [(122, 3.979420924392225), (102, 3.9039726847144416)],\n",
       "             19: [(133, 4.41353691550668)],\n",
       "             46: [(118, 4.094464807300618)],\n",
       "             80: [(110, 4.254606375826894)],\n",
       "             42: [(121, 4.0281532704659115), (140, 3.9245188130486306)],\n",
       "             33: [(101, 4.33944281535243)],\n",
       "             104: [(129, 4.245879288132328)],\n",
       "             73: [(132, 4.280141670597228)],\n",
       "             39: [(124, 3.9623762573728007)],\n",
       "             72: [(134, 4.205031825412407)],\n",
       "             52: [(131, 4.302136036942337)],\n",
       "             32: [(108, 4.317490631407014)],\n",
       "             92: [(121, 3.829402433954874)],\n",
       "             64: [(118, 4.095071050808636), (143, 4.038070620069504)],\n",
       "             77: [(135, 4.128172276694944)]})"
      ]
     },
     "execution_count": 218,
     "metadata": {},
     "output_type": "execute_result"
    }
   ],
   "source": [
    "top_n"
   ]
  },
  {
   "cell_type": "markdown",
   "id": "4c2bf6d9",
   "metadata": {},
   "source": [
    "#### data diatas adalah data rekomendasi produk terbaik / data produk yang akan dibeli oleh user selanjutnya untuk semua user. Karena hasil dari model ini cukup baik selajutnya kita akan menggunakan model ini untuk di run di website."
   ]
  },
  {
   "cell_type": "markdown",
   "id": "99cd2cf1",
   "metadata": {},
   "source": [
    "### Prepare data untuk website\n",
    "\n",
    "selanjutnya kita akan melakukan prepare data untuk website"
   ]
  },
  {
   "cell_type": "code",
   "execution_count": 231,
   "id": "6f8c682c",
   "metadata": {},
   "outputs": [],
   "source": [
    "new_purchase.to_csv(\"new_purchase.csv\",index=False)"
   ]
  },
  {
   "cell_type": "markdown",
   "id": "d98cbca2",
   "metadata": {},
   "source": [
    "kita akan buat fungsi untuk mengenerate uuid, karena pada website id yang digunakan adala UUID"
   ]
  },
  {
   "cell_type": "code",
   "execution_count": 225,
   "id": "b80c53e0",
   "metadata": {},
   "outputs": [],
   "source": [
    "import uuid\n",
    "def generate_random_uuids(n):\n",
    "    return [str(uuid.uuid4()) for _ in range(n)]\n",
    "interactions_uuid = generate_random_uuids(len(interactions_updated))"
   ]
  },
  {
   "cell_type": "code",
   "execution_count": 227,
   "id": "4a253b27",
   "metadata": {},
   "outputs": [],
   "source": [
    "interactions_updated.insert(0,\"uuid\",interactions_uuid)"
   ]
  },
  {
   "cell_type": "code",
   "execution_count": 229,
   "id": "ea217f8e",
   "metadata": {},
   "outputs": [
    {
     "data": {
      "text/html": [
       "<div>\n",
       "<style scoped>\n",
       "    .dataframe tbody tr th:only-of-type {\n",
       "        vertical-align: middle;\n",
       "    }\n",
       "\n",
       "    .dataframe tbody tr th {\n",
       "        vertical-align: top;\n",
       "    }\n",
       "\n",
       "    .dataframe thead th {\n",
       "        text-align: right;\n",
       "    }\n",
       "</style>\n",
       "<table border=\"1\" class=\"dataframe\">\n",
       "  <thead>\n",
       "    <tr style=\"text-align: right;\">\n",
       "      <th></th>\n",
       "      <th>uuid</th>\n",
       "      <th>customer_id</th>\n",
       "      <th>page_views</th>\n",
       "      <th>time_spent</th>\n",
       "    </tr>\n",
       "  </thead>\n",
       "  <tbody>\n",
       "    <tr>\n",
       "      <th>0</th>\n",
       "      <td>7a68b3c5-0412-4a70-b6d7-e0ceca24cdd4</td>\n",
       "      <td>1</td>\n",
       "      <td>25</td>\n",
       "      <td>120</td>\n",
       "    </tr>\n",
       "    <tr>\n",
       "      <th>1</th>\n",
       "      <td>9d199c48-bea4-461f-8bcb-6e0d3614c568</td>\n",
       "      <td>2</td>\n",
       "      <td>20</td>\n",
       "      <td>90</td>\n",
       "    </tr>\n",
       "    <tr>\n",
       "      <th>2</th>\n",
       "      <td>b9cc262f-d476-4e63-b9a2-e36177eeea07</td>\n",
       "      <td>4</td>\n",
       "      <td>15</td>\n",
       "      <td>80</td>\n",
       "    </tr>\n",
       "    <tr>\n",
       "      <th>3</th>\n",
       "      <td>457f225f-9896-4174-9625-d6a559bf05d7</td>\n",
       "      <td>5</td>\n",
       "      <td>22</td>\n",
       "      <td>110</td>\n",
       "    </tr>\n",
       "    <tr>\n",
       "      <th>4</th>\n",
       "      <td>932499db-00c0-460e-bbf4-513df451df5b</td>\n",
       "      <td>6</td>\n",
       "      <td>22</td>\n",
       "      <td>111</td>\n",
       "    </tr>\n",
       "    <tr>\n",
       "      <th>...</th>\n",
       "      <td>...</td>\n",
       "      <td>...</td>\n",
       "      <td>...</td>\n",
       "      <td>...</td>\n",
       "    </tr>\n",
       "    <tr>\n",
       "      <th>99</th>\n",
       "      <td>46026f7e-9dab-47fd-93db-ea6b97bba75f</td>\n",
       "      <td>101</td>\n",
       "      <td>23</td>\n",
       "      <td>112</td>\n",
       "    </tr>\n",
       "    <tr>\n",
       "      <th>100</th>\n",
       "      <td>aeaaadc5-12cd-4330-804f-5abfd86bd128</td>\n",
       "      <td>102</td>\n",
       "      <td>30</td>\n",
       "      <td>144</td>\n",
       "    </tr>\n",
       "    <tr>\n",
       "      <th>101</th>\n",
       "      <td>141d82f8-fd2d-4a94-af03-74531047b3bc</td>\n",
       "      <td>103</td>\n",
       "      <td>19</td>\n",
       "      <td>96</td>\n",
       "    </tr>\n",
       "    <tr>\n",
       "      <th>102</th>\n",
       "      <td>1567f539-c198-41c6-98b0-2fe685cfe114</td>\n",
       "      <td>104</td>\n",
       "      <td>23</td>\n",
       "      <td>115</td>\n",
       "    </tr>\n",
       "    <tr>\n",
       "      <th>103</th>\n",
       "      <td>25d7620e-7da0-49a8-b3cc-0ad2a5022cd6</td>\n",
       "      <td>105</td>\n",
       "      <td>22</td>\n",
       "      <td>109</td>\n",
       "    </tr>\n",
       "  </tbody>\n",
       "</table>\n",
       "<p>104 rows × 4 columns</p>\n",
       "</div>"
      ],
      "text/plain": [
       "                                     uuid  customer_id  page_views  time_spent\n",
       "0    7a68b3c5-0412-4a70-b6d7-e0ceca24cdd4            1          25         120\n",
       "1    9d199c48-bea4-461f-8bcb-6e0d3614c568            2          20          90\n",
       "2    b9cc262f-d476-4e63-b9a2-e36177eeea07            4          15          80\n",
       "3    457f225f-9896-4174-9625-d6a559bf05d7            5          22         110\n",
       "4    932499db-00c0-460e-bbf4-513df451df5b            6          22         111\n",
       "..                                    ...          ...         ...         ...\n",
       "99   46026f7e-9dab-47fd-93db-ea6b97bba75f          101          23         112\n",
       "100  aeaaadc5-12cd-4330-804f-5abfd86bd128          102          30         144\n",
       "101  141d82f8-fd2d-4a94-af03-74531047b3bc          103          19          96\n",
       "102  1567f539-c198-41c6-98b0-2fe685cfe114          104          23         115\n",
       "103  25d7620e-7da0-49a8-b3cc-0ad2a5022cd6          105          22         109\n",
       "\n",
       "[104 rows x 4 columns]"
      ]
     },
     "execution_count": 229,
     "metadata": {},
     "output_type": "execute_result"
    }
   ],
   "source": [
    "interactions_updated"
   ]
  },
  {
   "cell_type": "markdown",
   "id": "7759cd6b",
   "metadata": {},
   "source": [
    "Kita juga akan mengenerate nama dan address karena pada website setiap user memiliki nama dan address"
   ]
  },
  {
   "cell_type": "code",
   "execution_count": 238,
   "id": "2f9edb11",
   "metadata": {},
   "outputs": [],
   "source": [
    "import faker\n",
    "import random\n",
    "fake = faker.Faker('en_US')\n",
    "\n",
    "\n",
    "def generate_random_names_addresses(n):\n",
    "    name = []\n",
    "    address = []\n",
    "    for _ in range(n):\n",
    "        name.append(fake.name())\n",
    "        address.append(fake.address().replace(\"\\n\",\" \"))\n",
    "    return name,address\n",
    "\n",
    "names,addresses = generate_random_names_addresses(len(interactions_updated))"
   ]
  },
  {
   "cell_type": "code",
   "execution_count": 241,
   "id": "6c843e1f",
   "metadata": {},
   "outputs": [],
   "source": [
    "interactions_updated[\"name\"] = names\n",
    "interactions_updated[\"address\"] = addresses"
   ]
  },
  {
   "cell_type": "code",
   "execution_count": 244,
   "id": "5a24b0dd",
   "metadata": {},
   "outputs": [],
   "source": [
    "interactions_updated.to_csv(\"new_interactions.csv\",index=False)"
   ]
  },
  {
   "cell_type": "markdown",
   "id": "06a94599",
   "metadata": {},
   "source": [
    "selanjutnya kita akan siapkan product data, disini kita akan mengenerate uuid untuk setiap record juga"
   ]
  },
  {
   "cell_type": "code",
   "execution_count": 246,
   "id": "b46f15a2",
   "metadata": {},
   "outputs": [],
   "source": [
    "product_uuid = generate_random_uuids(len(product_update))"
   ]
  },
  {
   "cell_type": "code",
   "execution_count": 247,
   "id": "fc092003",
   "metadata": {},
   "outputs": [],
   "source": [
    "product_update.insert(0,\"uuid\",product_uuid)"
   ]
  },
  {
   "cell_type": "markdown",
   "id": "c3ca7606",
   "metadata": {},
   "source": [
    "Selanjutnya kita akan membuat beberapa nama product, pada website nama product digunakan untuk menjadi alias dari product id"
   ]
  },
  {
   "cell_type": "code",
   "execution_count": 251,
   "id": "2daf6cf7",
   "metadata": {},
   "outputs": [],
   "source": [
    "product_name=[\n",
    "    \"TV\",\"Shirt\",\"Juicer\",\"Lipstick\",\"Computer\",\"Speaker\",\"Handphone\",\"Vacum Cleaner\",\"Mouse\",\"Microphone\",\"Fan\",\"AC\",\n",
    "    \"Monitor\",\"Refrigerator\",\"Printer\",\"Pants\",\"Jacket\",\"Hat\",\"Gloves\",\"T-Shirt\",\"Sandals\",\"Shoes\",\"Jeans\",\"Socks\",\"Bracelet\",\n",
    "    \"Knife\",\"Spoon\",\"Fork\",\"Plate\",\"Stove\",\"Pan\",\"Frying Pan\",\"Kettle\",\"Cup\",\"Bowl\",\"Eyeliner\",\"Skincare\",\"Mascara\",\"Liptint\",\n",
    "    \"Parfume\",\"Powder\",\"Foundation\",\"Concealor\",\"BB Cream\", \"Blush On\"\n",
    "]"
   ]
  },
  {
   "cell_type": "code",
   "execution_count": 253,
   "id": "d2962872",
   "metadata": {},
   "outputs": [],
   "source": [
    "product_update[\"product_name\"] = product_name"
   ]
  },
  {
   "cell_type": "code",
   "execution_count": 255,
   "id": "900fc5ce",
   "metadata": {},
   "outputs": [],
   "source": [
    "product_update.to_csv(\"new_product.csv\")"
   ]
  },
  {
   "cell_type": "code",
   "execution_count": 256,
   "id": "85fb2020",
   "metadata": {},
   "outputs": [
    {
     "data": {
      "text/html": [
       "<div>\n",
       "<style scoped>\n",
       "    .dataframe tbody tr th:only-of-type {\n",
       "        vertical-align: middle;\n",
       "    }\n",
       "\n",
       "    .dataframe tbody tr th {\n",
       "        vertical-align: top;\n",
       "    }\n",
       "\n",
       "    .dataframe thead th {\n",
       "        text-align: right;\n",
       "    }\n",
       "</style>\n",
       "<table border=\"1\" class=\"dataframe\">\n",
       "  <thead>\n",
       "    <tr style=\"text-align: right;\">\n",
       "      <th></th>\n",
       "      <th>customer_id</th>\n",
       "      <th>product_id</th>\n",
       "      <th>page_views</th>\n",
       "      <th>time_spent</th>\n",
       "      <th>user_ratings</th>\n",
       "    </tr>\n",
       "  </thead>\n",
       "  <tbody>\n",
       "    <tr>\n",
       "      <th>0</th>\n",
       "      <td>1</td>\n",
       "      <td>101</td>\n",
       "      <td>25</td>\n",
       "      <td>120</td>\n",
       "      <td>4.5</td>\n",
       "    </tr>\n",
       "    <tr>\n",
       "      <th>1</th>\n",
       "      <td>5</td>\n",
       "      <td>101</td>\n",
       "      <td>22</td>\n",
       "      <td>110</td>\n",
       "      <td>4.0</td>\n",
       "    </tr>\n",
       "    <tr>\n",
       "      <th>2</th>\n",
       "      <td>8</td>\n",
       "      <td>101</td>\n",
       "      <td>25</td>\n",
       "      <td>124</td>\n",
       "      <td>4.5</td>\n",
       "    </tr>\n",
       "    <tr>\n",
       "      <th>3</th>\n",
       "      <td>16</td>\n",
       "      <td>101</td>\n",
       "      <td>31</td>\n",
       "      <td>150</td>\n",
       "      <td>5.0</td>\n",
       "    </tr>\n",
       "    <tr>\n",
       "      <th>4</th>\n",
       "      <td>21</td>\n",
       "      <td>101</td>\n",
       "      <td>25</td>\n",
       "      <td>122</td>\n",
       "      <td>4.5</td>\n",
       "    </tr>\n",
       "    <tr>\n",
       "      <th>...</th>\n",
       "      <td>...</td>\n",
       "      <td>...</td>\n",
       "      <td>...</td>\n",
       "      <td>...</td>\n",
       "      <td>...</td>\n",
       "    </tr>\n",
       "    <tr>\n",
       "      <th>3</th>\n",
       "      <td>64</td>\n",
       "      <td>143</td>\n",
       "      <td>20</td>\n",
       "      <td>99</td>\n",
       "      <td>4.0</td>\n",
       "    </tr>\n",
       "    <tr>\n",
       "      <th>4</th>\n",
       "      <td>79</td>\n",
       "      <td>143</td>\n",
       "      <td>18</td>\n",
       "      <td>90</td>\n",
       "      <td>4.0</td>\n",
       "    </tr>\n",
       "    <tr>\n",
       "      <th>5</th>\n",
       "      <td>90</td>\n",
       "      <td>143</td>\n",
       "      <td>18</td>\n",
       "      <td>90</td>\n",
       "      <td>4.0</td>\n",
       "    </tr>\n",
       "    <tr>\n",
       "      <th>0</th>\n",
       "      <td>79</td>\n",
       "      <td>144</td>\n",
       "      <td>18</td>\n",
       "      <td>90</td>\n",
       "      <td>4.0</td>\n",
       "    </tr>\n",
       "    <tr>\n",
       "      <th>0</th>\n",
       "      <td>79</td>\n",
       "      <td>145</td>\n",
       "      <td>18</td>\n",
       "      <td>90</td>\n",
       "      <td>4.0</td>\n",
       "    </tr>\n",
       "  </tbody>\n",
       "</table>\n",
       "<p>536 rows × 5 columns</p>\n",
       "</div>"
      ],
      "text/plain": [
       "    customer_id  product_id  page_views  time_spent  user_ratings\n",
       "0             1         101          25         120           4.5\n",
       "1             5         101          22         110           4.0\n",
       "2             8         101          25         124           4.5\n",
       "3            16         101          31         150           5.0\n",
       "4            21         101          25         122           4.5\n",
       "..          ...         ...         ...         ...           ...\n",
       "3            64         143          20          99           4.0\n",
       "4            79         143          18          90           4.0\n",
       "5            90         143          18          90           4.0\n",
       "0            79         144          18          90           4.0\n",
       "0            79         145          18          90           4.0\n",
       "\n",
       "[536 rows x 5 columns]"
      ]
     },
     "execution_count": 256,
     "metadata": {},
     "output_type": "execute_result"
    }
   ],
   "source": [
    "new_purchase"
   ]
  },
  {
   "cell_type": "code",
   "execution_count": null,
   "id": "975f6458",
   "metadata": {},
   "outputs": [],
   "source": []
  }
 ],
 "metadata": {
  "kernelspec": {
   "display_name": "Python 3 (ipykernel)",
   "language": "python",
   "name": "python3"
  },
  "language_info": {
   "codemirror_mode": {
    "name": "ipython",
    "version": 3
   },
   "file_extension": ".py",
   "mimetype": "text/x-python",
   "name": "python",
   "nbconvert_exporter": "python",
   "pygments_lexer": "ipython3",
   "version": "3.9.13"
  }
 },
 "nbformat": 4,
 "nbformat_minor": 5
}
